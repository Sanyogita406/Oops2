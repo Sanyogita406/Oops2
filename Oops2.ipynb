{
  "nbformat": 4,
  "nbformat_minor": 0,
  "metadata": {
    "colab": {
      "provenance": []
    },
    "kernelspec": {
      "name": "python3",
      "display_name": "Python 3"
    },
    "language_info": {
      "name": "python"
    }
  },
  "cells": [
    {
      "cell_type": "code",
      "execution_count": null,
      "metadata": {
        "id": "H8O28k6I-47j",
        "colab": {
          "base_uri": "https://localhost:8080/",
          "height": 87
        },
        "outputId": "80fda2a2-1fb2-4103-9d36-be860074b17d"
      },
      "outputs": [
        {
          "output_type": "execute_result",
          "data": {
            "text/plain": [
              "'Constructor in python is a special method that is called when an object is created. The purpose of a python constructor is to assign values to the data members within the class when an object is initialized. Constructor is a special class method for creating and initializing an object instance at that class. In Python every class has a constructor ; it\\'s not required to define explicity.\\nExample: \\nclass Person:\\n  def __init__(self, name, age):\\n    self.name = name\\n    self.age = age\\nperson = Person(\"Sanyogita\", 28)\\nprint(person.name)\\nprint(person.age)'"
            ],
            "application/vnd.google.colaboratory.intrinsic+json": {
              "type": "string"
            }
          },
          "metadata": {},
          "execution_count": 2
        }
      ],
      "source": [
        "#Constructor\n",
        "#1. What is a constructor in python? Explain its purpose and usage.\n",
        "\n",
        "'''Constructor in python is a special method that is called when an object is created. The purpose of a python constructor is to assign values to the data members within the class when an object is initialized. Constructor is a special class method for creating and initializing an object instance at that class. In Python every class has a constructor ; it's not required to define explicity.\n",
        "Example:\n",
        "class Person:\n",
        "  def __init__(self, name, age):\n",
        "    self.name = name\n",
        "    self.age = age\n",
        "person = Person(\"Sanyogita\", 28)\n",
        "print(person.name)\n",
        "print(person.age)'''"
      ]
    },
    {
      "cell_type": "code",
      "source": [
        "#2. Differentiate between a parameterless contructor and a parameterized constructor in python?\n",
        "\n",
        "'''Parameterless Constructor: A parameterless constructor is a constructor that does not take any arguements. It is a special method in python that is called when you create an instance of a class. The parameterless constructor is used to initialize the default values for the instance variables of the object.\n",
        "   Example:\n",
        "   class MyClass:\n",
        "    def __init__(self):\n",
        "      self.arg1 = 10\n",
        "      self.arg2 = 20\n",
        "    Parameterized constructor: Parameterized constructors are useful when you want to create an object with custom values for its attributes. They allow you to specify the values of the object's attributes when the object is created, rather than using default values.\n",
        "    Example:\n",
        "    class Person:\n",
        "      def __init__(self, name, age):\n",
        "        self.name = name\n",
        "        self.age = age\n",
        "    person = Person(\"Sanyogita\",30)\n",
        "    print(person.name)\n",
        "    print(person.age)'''"
      ],
      "metadata": {
        "id": "2f1NYJoX_Mna",
        "colab": {
          "base_uri": "https://localhost:8080/",
          "height": 122
        },
        "outputId": "3e398470-594d-412d-8d63-504fad70cbdd"
      },
      "execution_count": null,
      "outputs": [
        {
          "output_type": "execute_result",
          "data": {
            "text/plain": [
              "'Parameterless Constructor: A parameterless constructor is a constructor that does not take any arguements. It is a special method in python that is called when you create an instance of a class. The parameterless constructor is used to initialize the default values for the instance variables of the object.\\n   Example: \\n   class MyClass:\\n    def __init__(self):\\n      self.arg1 = 10\\n      self.arg2 = 20\\n    Parameterized constructor: Parameterized constructors are useful when you want to create an object with custom values for its attributes. They allow you to specify the values of the object\\'s attributes when the object is created, rather than using default values.\\n    Example:\\n    class Person:\\n      def __init__(self, name, age):\\n        self.name = name\\n        self.age = age\\n    person = Person(\"Sanyogita\",30)\\n    print(person.name)\\n    print(person.age)'"
            ],
            "application/vnd.google.colaboratory.intrinsic+json": {
              "type": "string"
            }
          },
          "metadata": {},
          "execution_count": 3
        }
      ]
    },
    {
      "cell_type": "code",
      "source": [
        "#3. How do you define a constructor in a python class? Provide an example\n",
        "\n",
        "class MyClass:\n",
        "  def __init__(self):\n",
        "    self.arg1 = 10\n",
        "    self.arg2 = 20\n",
        "obj = MyClass()\n",
        "print(obj.arg1)\n",
        "print(obj.arg2)"
      ],
      "metadata": {
        "id": "w7CyONXU_c0w",
        "colab": {
          "base_uri": "https://localhost:8080/"
        },
        "outputId": "da61c230-7911-4887-b9ae-9fe1b80c064b"
      },
      "execution_count": null,
      "outputs": [
        {
          "output_type": "stream",
          "name": "stdout",
          "text": [
            "10\n",
            "20\n"
          ]
        }
      ]
    },
    {
      "cell_type": "code",
      "source": [
        "#4. Explain the '__init__' method in python and its role in contructors\n",
        "\n",
        "'''In Python, __init__ is an instance method that initializes a newly created object. It takes the object as its first argument followed by additional arguements. The method takes the object as its first arguement(self), followed by any additional arguments that need to be passed to it.\n",
        "   Example:\n",
        "   class MyClass:\n",
        "    def __init__(self, *args, **kwargs):\n",
        "      self.attribute = 'value'\n",
        "      '''"
      ],
      "metadata": {
        "id": "Sihj8fAy_o-y",
        "colab": {
          "base_uri": "https://localhost:8080/",
          "height": 70
        },
        "outputId": "8df9b0f9-649f-4923-901e-36a20e98a0b1"
      },
      "execution_count": null,
      "outputs": [
        {
          "output_type": "execute_result",
          "data": {
            "text/plain": [
              "\"In Python, __init__ is an instance method that initializes a newly created object. It takes the object as its first argument followed by additional arguements. The method takes the object as its first arguement(self), followed by any additional arguments that need to be passed to it.\\n   Example: \\n   class MyClass:\\n    def __init__(self, *args, **kwargs):\\n      self.attribute = 'value'\\n      \""
            ],
            "application/vnd.google.colaboratory.intrinsic+json": {
              "type": "string"
            }
          },
          "metadata": {},
          "execution_count": 5
        }
      ]
    },
    {
      "cell_type": "code",
      "source": [
        "#5. In a class named 'Person' create a constructor that initializes the 'name' and 'age' attributes . Provide an example of creating an object of this class.\n",
        "\n",
        "class Person:\n",
        "    def __init__(self, name, age):\n",
        "        self.name = name\n",
        "        self.age = age\n",
        "person1 = Person(\"John Doe\", 25)\n",
        "print(person1.name)\n",
        "print(person1.age)"
      ],
      "metadata": {
        "id": "rTp5W12aAIf_",
        "colab": {
          "base_uri": "https://localhost:8080/"
        },
        "outputId": "4cda645c-60b2-4faf-d4b7-a7fa1c80e75f"
      },
      "execution_count": null,
      "outputs": [
        {
          "output_type": "stream",
          "name": "stdout",
          "text": [
            "John Doe\n",
            "25\n"
          ]
        }
      ]
    },
    {
      "cell_type": "code",
      "source": [
        "#6. How can you call a constructor explicity in python? Give an example.\n",
        "\n",
        "'''A constructor is a member function which python calls when it instantiates an object of that class. It creates a new class instance of the class Its A Class and assigns it to the variable y. So, when the new instance is created the __init__() (constructor) is called.\n",
        "  Example:\n",
        "  class SumIt:\n",
        "    def __init__(self, VarOne, VarTwo):\n",
        "      self.VarOne = VarOne\n",
        "      self.VarTwo = VarTwo\n",
        "    def sum(self):\n",
        "      return(self.VarOne + self.VarTwo)\n",
        "  x = SumIt(10, 20)\n",
        "  print(x.sum())'''"
      ],
      "metadata": {
        "id": "rc-LPb4iArGa",
        "colab": {
          "base_uri": "https://localhost:8080/",
          "height": 87
        },
        "outputId": "afcd76d4-0c5f-46c8-e357-0b42249bb637"
      },
      "execution_count": null,
      "outputs": [
        {
          "output_type": "execute_result",
          "data": {
            "text/plain": [
              "'A constructor is a member function which python calls when it instantiates an object of that class. It creates a new class instance of the class Its A Class and assigns it to the variable y. So, when the new instance is created the __init__() (constructor) is called.\\n  Example: \\n  class SumIt:\\n    def __init__(self, VarOne, VarTwo):\\n      self.VarOne = VarOne\\n      self.VarTwo = VarTwo\\n    def sum(self):\\n      return(self.VarOne + self.VarTwo)\\n  x = SumIt(10, 20)\\n  print(x.sum())'"
            ],
            "application/vnd.google.colaboratory.intrinsic+json": {
              "type": "string"
            }
          },
          "metadata": {},
          "execution_count": 9
        }
      ]
    },
    {
      "cell_type": "code",
      "source": [
        "#7. What is the significance of the 'self' parameter in python constructors? Explain with an example.\n",
        "\n",
        "'''Self represents the instance of the class. By using the 'self' we can access the attributes and methods of the class in python. It binds the attributes with the given arguments. The reason you need to use self. is because Python does not use the @ syntax to refer to instance attributes.\n",
        "Example:\n",
        "class myclass:\n",
        "  def __init__(self, value):\n",
        "    self.value = value\n",
        "  def print_value(self):\n",
        "    print(self.value)\n",
        "obj1 = mynumber(17)\n",
        "obj1.print_value()'''"
      ],
      "metadata": {
        "id": "iKMP1AwlA6aX",
        "colab": {
          "base_uri": "https://localhost:8080/",
          "height": 70
        },
        "outputId": "b74a8e57-2e52-4062-bbfe-c16a4404b34f"
      },
      "execution_count": null,
      "outputs": [
        {
          "output_type": "execute_result",
          "data": {
            "text/plain": [
              "\"Self represents the instance of the class. By using the 'self' we can access the attributes and methods of the class in python. It binds the attributes with the given arguments. The reason you need to use self. is because Python does not use the @ syntax to refer to instance attributes.\\nExample:\\nclass myclass:\\n  def __init__(self, value):\\n    self.value = value\\n  def print_value(self):\\n    print(self.value)\\nobj1 = mynumber(17)\\nobj1.print_value()\""
            ],
            "application/vnd.google.colaboratory.intrinsic+json": {
              "type": "string"
            }
          },
          "metadata": {},
          "execution_count": 17
        }
      ]
    },
    {
      "cell_type": "code",
      "source": [
        "#8. Discuss the concept of default constructors in python? When are they used?\n",
        "\n",
        "'''Default Constructor: Default constructor are useful when you want to create an object with a predefined set of attributes, but you don't want to specify the values of those attributes when the object is created.It is used to create an object with default values for its attributes.'''"
      ],
      "metadata": {
        "id": "riCQimvQBWSL",
        "colab": {
          "base_uri": "https://localhost:8080/",
          "height": 53
        },
        "outputId": "6885fead-39ad-49ec-caf3-1b47b5c550a7"
      },
      "execution_count": null,
      "outputs": [
        {
          "output_type": "execute_result",
          "data": {
            "text/plain": [
              "\"Default Constructor: Default constructor are useful when you want to create an object with a predefined set of attributes, but you don't want to specify the values of those attributes when the object is created.It is used to create an object with default values for its attributes.\""
            ],
            "application/vnd.google.colaboratory.intrinsic+json": {
              "type": "string"
            }
          },
          "metadata": {},
          "execution_count": 10
        }
      ]
    },
    {
      "cell_type": "code",
      "source": [
        "#9. Create a python class called 'Rectangle' with a constructor that initializes the 'width' and 'height' attributes. Provide a method to calculate the area of the rectangle.\n",
        "\n",
        "class Rectangle:\n",
        "    def __init__(self, width, height):\n",
        "        self.width = width\n",
        "        self.height = height\n",
        "\n",
        "    def calculate_area(self):\n",
        "        return self.width * self.height\n",
        "rectangle = Rectangle(5, 10)\n",
        "area = rectangle.calculate_area()\n",
        "print(\"The area of the rectangle is:\", area)"
      ],
      "metadata": {
        "id": "nNl5v3ljBy3U",
        "colab": {
          "base_uri": "https://localhost:8080/"
        },
        "outputId": "70a77849-334f-4b32-fa0c-996ef3c362e1"
      },
      "execution_count": null,
      "outputs": [
        {
          "output_type": "stream",
          "name": "stdout",
          "text": [
            "The area of the rectangle is: 50\n"
          ]
        }
      ]
    },
    {
      "cell_type": "code",
      "source": [
        "#10. How can you have multiple constructors in a python class? Explain with an example.\n",
        "\n",
        "'''A pretty useful technique for simulating multiple constructors in a Python class is to provide. __init__() with optional optional arguments using default argument values. This way, you can call the class constructor in different ways and get a different behavior each time.\n",
        "   Example:\n",
        "   class example:\n",
        "    def __init__(self):\n",
        "      print(\"One\")\n",
        "    def __init__(self):\n",
        "      print(\"Two\")\n",
        "    def __init__(self):\n",
        "      print(\"Three\")\n",
        "   e = example'''"
      ],
      "metadata": {
        "id": "R24UIQGIC5AV",
        "colab": {
          "base_uri": "https://localhost:8080/",
          "height": 70
        },
        "outputId": "5e8abf75-394c-4e9b-8ffc-c1fa38b7fc29"
      },
      "execution_count": null,
      "outputs": [
        {
          "output_type": "execute_result",
          "data": {
            "text/plain": [
              "'A pretty useful technique for simulating multiple constructors in a Python class is to provide. __init__() with optional optional arguments using default argument values. This way, you can call the class constructor in different ways and get a different behavior each time.\\n   Example:\\n   class example:\\n    def __init__(self):\\n      print(\"One\")\\n    def __init__(self):\\n      print(\"Two\")\\n    def __init__(self):\\n      print(\"Three\")\\n   e = example'"
            ],
            "application/vnd.google.colaboratory.intrinsic+json": {
              "type": "string"
            }
          },
          "metadata": {},
          "execution_count": 11
        }
      ]
    },
    {
      "cell_type": "code",
      "source": [
        "#11. What is method overloading, and how is it related to constructors in python?\n",
        "\n",
        "'''Two methods cannot have the same name in Pyhton; hence method overloading is a feature that allows the same operator to have different meanings. Overloading is a method or operator that can do different functionalities with the same name. If the constructor is written two times with different signatures, we call constructor overloading. The concept of method overloading and constructor overloading is possible in other languages. In python method and constructor, overloading is not possible.'''"
      ],
      "metadata": {
        "id": "6XoBLm8tDV1s",
        "colab": {
          "base_uri": "https://localhost:8080/",
          "height": 87
        },
        "outputId": "758c7dca-5231-44d7-96aa-d8b240a86b8d"
      },
      "execution_count": null,
      "outputs": [
        {
          "output_type": "execute_result",
          "data": {
            "text/plain": [
              "'Two methods cannot have the same name in Pyhton; hence method overloading is a feature that allows the same operator to have different meanings. Overloading is a method or operator that can do different functionalities with the same name. If the constructor is written two times with different signatures, we call constructor overloading. The concept of method overloading and constructor overloading is possible in other languages. In python method and constructor, overloading is not possible.'"
            ],
            "application/vnd.google.colaboratory.intrinsic+json": {
              "type": "string"
            }
          },
          "metadata": {},
          "execution_count": 14
        }
      ]
    },
    {
      "cell_type": "code",
      "source": [
        "#12. Explain the use of the 'super()' function in python constructors? Provide an example.\n",
        "\n",
        "'''Python super() function allows us to refer to the parent class explicitly. It's useful in case of inheritance where we want to call super class functions.\n",
        "  Example:\n",
        "  class Parent:\n",
        "    def __init__(self, txt):\n",
        "      self.message = txt\n",
        "    def printmessage(self):\n",
        "      print(self.message)\n",
        "  class Child(Parent):\n",
        "    def __init__(self,txt):\n",
        "      super().__init__(text)\n",
        "  x = Child(\"Hello, and welcome!\")\n",
        "  x.printmessage()'''"
      ],
      "metadata": {
        "id": "x9MNXlafDi3w",
        "colab": {
          "base_uri": "https://localhost:8080/",
          "height": 70
        },
        "outputId": "45d05cfa-dc95-4b67-82f5-68258342799c"
      },
      "execution_count": null,
      "outputs": [
        {
          "output_type": "execute_result",
          "data": {
            "text/plain": [
              "'Python super() function allows us to refer to the parent class explicitly. It\\'s useful in case of inheritance where we want to call super class functions.\\n  Example:\\n  class Parent:\\n    def __init__(self, txt):\\n      self.message = txt\\n    def printmessage(self):\\n      print(self.message)\\n  class Child(Parent):\\n    def __init__(self,txt):\\n      super().__init__(text)\\n  x = Child(\"Hello, and welcome!\")\\n  x.printmessage()'"
            ],
            "application/vnd.google.colaboratory.intrinsic+json": {
              "type": "string"
            }
          },
          "metadata": {},
          "execution_count": 15
        }
      ]
    },
    {
      "cell_type": "code",
      "source": [
        "#13. Create a constructor class called 'Book' with a contructor that initializes the 'title', 'author', and 'published_year' attributes. Provide a method to display book details.\n",
        "\n",
        "class Book:\n",
        "    def __init__(self, title, author, published_year):\n",
        "        self.title = title\n",
        "        self.author = author\n",
        "        self.published_year = published_year\n",
        "\n",
        "    def display_details(self):\n",
        "        print(f\"Title: {self.title}\")\n",
        "        print(f\"Author: {self.author}\")\n",
        "        print(f\"Published Year: {self.published_year}\")\n",
        "\n",
        "book1 = Book(\"The Great Gatsby\", \"F. Scott Fitzgerald\", 1925)\n",
        "book1.display_details()\n"
      ],
      "metadata": {
        "id": "rYmif7ShD4-e",
        "colab": {
          "base_uri": "https://localhost:8080/"
        },
        "outputId": "fcb7b621-86d4-4084-ecbe-2f9b220eb9dd"
      },
      "execution_count": null,
      "outputs": [
        {
          "output_type": "stream",
          "name": "stdout",
          "text": [
            "Title: The Great Gatsby\n",
            "Author: F. Scott Fitzgerald\n",
            "Published Year: 1925\n"
          ]
        }
      ]
    },
    {
      "cell_type": "code",
      "source": [
        "#14. Discuss the differences between constructors and regular methods in python classes.\n",
        "\n",
        "'''Constructors: A constructor helps in initialising an object. The new keyword plays a critical role in calling the constructor. It does not have a return type. The name of the constructor and class will always be the same. A constructor helps in initialising an object that doesn't exist.\n",
        "   Methods: A method is a grouping of instructions that returns a value upon its execution. Method calls play a critical role in invoking methods. It has a return type. For the method, we can use any name. A method performs functions in preconstructed or already developed objects.'''"
      ],
      "metadata": {
        "id": "vivOqiKZEgub",
        "colab": {
          "base_uri": "https://localhost:8080/",
          "height": 87
        },
        "outputId": "9eddb037-2daa-4955-f883-7ccd1c4e7d9e"
      },
      "execution_count": null,
      "outputs": [
        {
          "output_type": "execute_result",
          "data": {
            "text/plain": [
              "\"Constructors: A constructor helps in initialising an object. The new keyword plays a critical role in calling the constructor. It does not have a return type. The name of the constructor and class will always be the same. A constructor helps in initialising an object that doesn't exist.\\n   Methods: A method is a grouping of instructions that returns a value upon its execution. Method calls play a critical role in invoking methods. It has a return type. For the method, we can use any name. A method performs functions in preconstructed or already developed objects.\""
            ],
            "application/vnd.google.colaboratory.intrinsic+json": {
              "type": "string"
            }
          },
          "metadata": {},
          "execution_count": 17
        }
      ]
    },
    {
      "cell_type": "code",
      "source": [
        "#15. Explain the role of the 'self' parameter in instance variable initialization with a constructor.\n",
        "\n",
        "'''In the constructor, \"self\" is used to initialize instance variables(arg1 and arg2) with the values passed as arguments. In the my_method, \"self\" is used to access and print the values of arg1 and arg2. \"Self\" is a convention and not a keyword in Python.'''"
      ],
      "metadata": {
        "id": "BaVZTzIzE-kY",
        "colab": {
          "base_uri": "https://localhost:8080/",
          "height": 53
        },
        "outputId": "d9f0cb7a-2a79-4646-89d1-185de3c6a3ed"
      },
      "execution_count": null,
      "outputs": [
        {
          "output_type": "execute_result",
          "data": {
            "text/plain": [
              "'In the constructor, \"self\" is used to initialize instance variables(arg1 and arg2) with the values passed as arguments. In the my_method, \"self\" is used to access and print the values of arg1 and arg2. \"Self\" is a convention and not a keyword in Python.'"
            ],
            "application/vnd.google.colaboratory.intrinsic+json": {
              "type": "string"
            }
          },
          "metadata": {},
          "execution_count": 20
        }
      ]
    },
    {
      "cell_type": "code",
      "source": [
        "#16. How do you prevent a class from having multiple instances by using constructors in python? Provide an example.\n",
        "\n",
        "'''Using the @classmethod decorator to provide multiple constructors in a class is a fairly popular technique in Pyhton. There are several examples of built in and standard library classes that use this technique to provide multiple alternative constructors.'''"
      ],
      "metadata": {
        "id": "clWn1GLcFX-e",
        "colab": {
          "base_uri": "https://localhost:8080/",
          "height": 53
        },
        "outputId": "88bb2aa5-629a-4407-912c-2a4e28d76443"
      },
      "execution_count": 36,
      "outputs": [
        {
          "output_type": "execute_result",
          "data": {
            "text/plain": [
              "'Using the @classmethod decorator to provide multiple constructors in a class is a fairly popular technique in Pyhton. There are several examples of built in and standard library classes that use this technique to provide multiple alternative constructors.'"
            ],
            "application/vnd.google.colaboratory.intrinsic+json": {
              "type": "string"
            }
          },
          "metadata": {},
          "execution_count": 36
        }
      ]
    },
    {
      "cell_type": "code",
      "source": [
        "#17. Create a python class called 'Student' with a constructor that takes a list of subjects as a parameter and initializes the 'subjects' attribute.\n",
        "\n",
        "class Student:\n",
        "    def __init__(self, subjects):\n",
        "        self.subjects = subjects\n",
        "student1 = Student(['Math', 'Science', 'English'])\n",
        "print(student1.subjects)  # Output: ['Math', 'Science', 'English']"
      ],
      "metadata": {
        "id": "yFXhG-1oFqZy",
        "colab": {
          "base_uri": "https://localhost:8080/"
        },
        "outputId": "5f9ad569-bac1-45ff-950f-84f914eedea9"
      },
      "execution_count": null,
      "outputs": [
        {
          "output_type": "stream",
          "name": "stdout",
          "text": [
            "['Math', 'Science', 'English']\n"
          ]
        }
      ]
    },
    {
      "cell_type": "code",
      "source": [
        "#18. What is the purpose of the \"__del__\" method in python classes, and how does it relate to construtors?\n",
        "\n",
        "'''In Pyhton, the __del__() method is referred to as a destructor method. It is called after an object's garbage collection occurs, which happens after all references to the item have been destroyed.'''"
      ],
      "metadata": {
        "id": "6P1xwGCtGCg5",
        "colab": {
          "base_uri": "https://localhost:8080/",
          "height": 53
        },
        "outputId": "ec9a84b3-2752-497a-dcec-a36955aa9ffe"
      },
      "execution_count": 37,
      "outputs": [
        {
          "output_type": "execute_result",
          "data": {
            "text/plain": [
              "\"In Pyhton, the __del__() method is referred to as a destructor method. It is called after an object's garbage collection occurs, which happens after all references to the item have been destroyed.\""
            ],
            "application/vnd.google.colaboratory.intrinsic+json": {
              "type": "string"
            }
          },
          "metadata": {},
          "execution_count": 37
        }
      ]
    },
    {
      "cell_type": "code",
      "source": [
        "#19. Explain the use of constructor chaining in python. Provide a practical example.\n",
        "\n",
        "'''Constructor chaining is the process of calling one constructor from another constructor. Constructor chaining is useful when you want to invoke multiple constructors, one after another, by initializing only one instance. In Python, constructor chaining is convenient when we are dealing with inheritance.\n",
        "Example:\n",
        "class Vehicle:\n",
        "  def __init__(self, engine):\n",
        "    print('Inside Vehicle Constructor')\n",
        "    self.engine = engine\n",
        "class Car(Vehicle):\n",
        "  def __init__(self, engine, max_speed):\n",
        "    super().__init__(engine)\n",
        "    print(\"Inside Car Constructor')\n",
        "    self.max_speed = max_speed\n",
        "class Electric_Car(Car):\n",
        "  def __init__(self, engine, max_speed, km_range):\n",
        "    super().__init__(engine, max_speed)\n",
        "    print('Inside Electric Car Constructor')\n",
        "    self.km_range = km_range\n",
        "ev = Electric_Car('1500cc', 240, 750)\n",
        "print(f'Engine={ev.engine}, Max Speed={ev.max_speed}, Km range={ev.km_range}')'''"
      ],
      "metadata": {
        "id": "_cd5Mhl6GUBl",
        "colab": {
          "base_uri": "https://localhost:8080/",
          "height": 122
        },
        "outputId": "cad513bd-00a6-45a1-d1fa-d4da35c24c50"
      },
      "execution_count": null,
      "outputs": [
        {
          "output_type": "execute_result",
          "data": {
            "text/plain": [
              "'Constructor chaining is the process of calling one constructor from another constructor. Constructor chaining is useful when you want to invoke multiple constructors, one after another, by initializing only one instance. In Python, constructor chaining is convenient when we are dealing with inheritance.\\nExample:\\nclass Vehicle:\\n  def __init__(self, engine):\\n    print(\\'Inside Vehicle Constructor\\')\\n    self.engine = engine\\nclass Car(Vehicle):\\n  def __init__(self, engine, max_speed):\\n    super().__init__(engine)\\n    print(\"Inside Car Constructor\\')\\n    self.max_speed = max_speed\\nclass Electric_Car(Car):\\n  def __init__(self, engine, max_speed, km_range):\\n    super().__init__(engine, max_speed)\\n    print(\\'Inside Electric Car Constructor\\')\\n    self.km_range = km_range\\nev = Electric_Car(\\'1500cc\\', 240, 750)\\nprint(f\\'Engine={ev.engine}, Max Speed={ev.max_speed}, Km range={ev.km_range}\\')'"
            ],
            "application/vnd.google.colaboratory.intrinsic+json": {
              "type": "string"
            }
          },
          "metadata": {},
          "execution_count": 11
        }
      ]
    },
    {
      "cell_type": "code",
      "source": [
        "#20. Create a python class called 'car' with a default constructor that initializes the 'make' and 'model' attributes. Provide a method to display car information.\n",
        "\n",
        "class Car:\n",
        "    def __init__(self, make, model):\n",
        "        self.make = make\n",
        "        self.model = model\n",
        "\n",
        "    def display_info(self):\n",
        "        print(f\"Car Make: {self.make}\")\n",
        "        print(f\"Car Model: {self.model}\")\n",
        "my_car = Car(\"Toyota\", \"Camry\")\n",
        "my_car.display_info()"
      ],
      "metadata": {
        "id": "WEhSxdxQGwLf",
        "colab": {
          "base_uri": "https://localhost:8080/"
        },
        "outputId": "9039b6e8-7a47-4031-c145-fa81ab09d44d"
      },
      "execution_count": null,
      "outputs": [
        {
          "output_type": "stream",
          "name": "stdout",
          "text": [
            "Car Make: Toyota\n",
            "Car Model: Camry\n"
          ]
        }
      ]
    },
    {
      "cell_type": "code",
      "source": [
        "#Inheritance:\n",
        "#1. What is inheritance in python? Explain its significance in object-oriented programming.\n",
        "\n",
        "'''Inheritance allows to define a class that inherits all the methods and properties from another class. Parant class is the class being inherited from, also called base class. Child class is the class that inherits from another class, also called derived class. It is an object-oriented programming concept and is significant in python. It is beacause inheritance provides code reuseability, which means that instead of writing the same code over and again, we can inherit the attributes we require in a child class.'''"
      ],
      "metadata": {
        "id": "FR8Rq9R_HOcB",
        "colab": {
          "base_uri": "https://localhost:8080/",
          "height": 87
        },
        "outputId": "b0a799f3-43ce-471d-f0fe-ef6004ac4359"
      },
      "execution_count": null,
      "outputs": [
        {
          "output_type": "execute_result",
          "data": {
            "text/plain": [
              "'Inheritance allows to define a class that inherits all the methods and properties from another class. Parant class is the class being inherited from, also called base class. Child class is the class that inherits from another class, also called derived class. It is an object-oriented programming concept and is significant in python. It is beacause inheritance provides code reuseability, which means that instead of writing the same code over and again, we can inherit the attributes we require in a child class.'"
            ],
            "application/vnd.google.colaboratory.intrinsic+json": {
              "type": "string"
            }
          },
          "metadata": {},
          "execution_count": 1
        }
      ]
    },
    {
      "cell_type": "code",
      "source": [
        "#2. Differentiate between single inheritance and multiple inheritance in python. Provide examples for each.\n",
        "\n",
        "'''There are two types of python inheritance:\n",
        "   1. Single inheritance: In this type, a derived class inherits from only one base class.\n",
        "   Example:\n",
        "   class a:\n",
        "    def __init__(self):\n",
        "      self.name = n\n",
        "   class b(a):\n",
        "    def __init__(self):\n",
        "      self.roll = roll\n",
        "   2. Multiple inheritance: In this inheritance, the derived class inherits from multiple base classes.\n",
        "   Example:\n",
        "   class B1(object):\n",
        "    def __init__(self):\n",
        "      self.str1 = \"Python1\"\n",
        "      print(\"B1\")\n",
        "    class B2(object):\n",
        "      def __init__(self):\n",
        "        self.str2 = \"Python2\"\n",
        "        print(\"B2\")\n",
        "    class derived(B1, B2):\n",
        "      def __init__(self):'''"
      ],
      "metadata": {
        "id": "4HxwS9GjHo63",
        "colab": {
          "base_uri": "https://localhost:8080/",
          "height": 105
        },
        "outputId": "ba2b20b1-f0c6-468d-b557-b8ea9ae17581"
      },
      "execution_count": null,
      "outputs": [
        {
          "output_type": "execute_result",
          "data": {
            "text/plain": [
              "'There are two types of python inheritance:\\n   1. Single inheritance: In this type, a derived class inherits from only one base class.\\n   Example: \\n   class a:\\n    def __init__(self):\\n      self.name = n\\n   class b(a):\\n    def __init__(self):\\n      self.roll = roll\\n   2. Multiple inheritance: In this inheritance, the derived class inherits from multiple base classes.\\n   Example: \\n   class B1(object):\\n    def __init__(self):\\n      self.str1 = \"Python1\"\\n      print(\"B1\")\\n    class B2(object):\\n      def __init__(self):\\n        self.str2 = \"Python2\"\\n        print(\"B2\")\\n    class derived(B1, B2):\\n      def __init__(self):'"
            ],
            "application/vnd.google.colaboratory.intrinsic+json": {
              "type": "string"
            }
          },
          "metadata": {},
          "execution_count": 2
        }
      ]
    },
    {
      "cell_type": "code",
      "source": [
        "#3. Create a python class called 'Vehicle' with attributes 'color' and 'speed'. Then, create a child class called 'car' that inherits from 'vehicle' and adds a 'brand' attribute. Provide an practical example.\n",
        "\n",
        "class Vehicle:\n",
        "    def __init__(self, color, speed):\n",
        "        self.color = color\n",
        "        self.speed = speed\n",
        "\n",
        "class Car(Vehicle):\n",
        "    def __init__(self, color, speed, brand):\n",
        "        super().__init__(color, speed)\n",
        "        self.brand = brand\n",
        "car = Car(\"Red\", 100, \"Toyota\")"
      ],
      "metadata": {
        "id": "KUo7AVn1H8Vn"
      },
      "execution_count": 2,
      "outputs": []
    },
    {
      "cell_type": "code",
      "source": [
        "#4. Explain the concept of method overriding in inheritance. Provide a practical example.\n",
        "\n",
        "'''Method overriding allows you to redefine a method in a subclass or the derived class previously defined in its parent or the superclass. An OOP languague can allow a child class or subclass to have a customised implementation of a method already provided by one of its parent classes or super classes\n",
        "  Example:\n",
        "  class Parent():\n",
        "    def __init__(self):\n",
        "      self.value = \"Inside Parent\"\n",
        "    def show(self):\n",
        "      print(self.value)\n",
        "  class Child(Parent):\n",
        "    def __init__(self):\n",
        "      self.value = \"Inside Child\"\n",
        "    def show(self):\n",
        "      print(self.value)\n",
        "  obj1 = Parent()\n",
        "  obj2 = Child()\n",
        "  obj1.show()\n",
        "  obj2.show()'''"
      ],
      "metadata": {
        "id": "IQrZTwS3I0G2",
        "colab": {
          "base_uri": "https://localhost:8080/",
          "height": 87
        },
        "outputId": "30a53541-3436-4f7d-ab1d-6c2551482486"
      },
      "execution_count": null,
      "outputs": [
        {
          "output_type": "execute_result",
          "data": {
            "text/plain": [
              "'Method overriding allows you to redefine a method in a subclass or the derived class previously defined in its parent or the superclass. An OOP languague can allow a child class or subclass to have a customised implementation of a method already provided by one of its parent classes or super classes\\n  Example:\\n  class Parent():\\n    def __init__(self):\\n      self.value = \"Inside Parent\"\\n    def show(self):\\n      print(self.value)\\n  class Child(Parent):\\n    def __init__(self):\\n      self.value = \"Inside Child\"\\n    def show(self):\\n      print(self.value)\\n  obj1 = Parent()\\n  obj2 = Child()\\n  obj1.show()\\n  obj2.show()'"
            ],
            "application/vnd.google.colaboratory.intrinsic+json": {
              "type": "string"
            }
          },
          "metadata": {},
          "execution_count": 3
        }
      ]
    },
    {
      "cell_type": "code",
      "source": [
        "#5. How can you access the methods and attributes of a parent class from a child class in python? Give an example.\n",
        "\n",
        "'''We can access the methods and attributes of a parent class from a child class by just calling the constructor of parent class inside the constructor of child class and then the object of a child class can access the methods and attributes of the parent class.\n",
        "   Example:\n",
        "   class Person(object):\n",
        "    def __init__(self, name, idnumber):\n",
        "      self.name = name\n",
        "      self.idnumber = idnumber\n",
        "    def display(self):\n",
        "      print(self.name)\n",
        "      print(self.idnumber)\n",
        "   class Employee(Person):\n",
        "    def __init__(self, name, idnumber, salary):\n",
        "      self.salary = salary\n",
        "      Person.__init__(self, name, idnumber)\n",
        "    def show(self):\n",
        "      print(self.salary)\n",
        "   a = Employee('Rahul', 886012, 30000000)\n",
        "   a.display()\n",
        "   a.show()'''"
      ],
      "metadata": {
        "id": "dn-0QkhyJPdn",
        "colab": {
          "base_uri": "https://localhost:8080/",
          "height": 105
        },
        "outputId": "ffff8dfa-5b94-4560-e108-90ec049244b1"
      },
      "execution_count": null,
      "outputs": [
        {
          "output_type": "execute_result",
          "data": {
            "text/plain": [
              "\"We can access the methods and attributes of a parent class from a child class by just calling the constructor of parent class inside the constructor of child class and then the object of a child class can access the methods and attributes of the parent class.\\n   Example:\\n   class Person(object):\\n    def __init__(self, name, idnumber):\\n      self.name = name\\n      self.idnumber = idnumber\\n    def display(self):\\n      print(self.name)\\n      print(self.idnumber)\\n   class Employee(Person):\\n    def __init__(self, name, idnumber, salary):\\n      self.salary = salary\\n      Person.__init__(self, name, idnumber)\\n    def show(self):\\n      print(self.salary)\\n   a = Employee('Rahul', 886012, 30000000)\\n   a.display()\\n   a.show()\""
            ],
            "application/vnd.google.colaboratory.intrinsic+json": {
              "type": "string"
            }
          },
          "metadata": {},
          "execution_count": 4
        }
      ]
    },
    {
      "cell_type": "code",
      "source": [
        "#6. Discuss the use of the 'super()' function in python inheritance. When and why is it used? Provide an example.\n",
        "\n",
        "'''The super() function is used to give access to methods and properties of a parent or sibling class. The super() function returns an object that represents the parent class.\n",
        "   Example:\n",
        "   class Emp():\n",
        "    def __init__(self, id, name, Add):\n",
        "      self.id = id\n",
        "      self.name = name\n",
        "      self.Add = Add\n",
        "   class Freelance(Emp):\n",
        "    def __init__(self, id, name, Add, Emails):\n",
        "      super().__init__(id, name, Add)\n",
        "      self.Emails = Emails\n",
        "   Emp_1 = Freelance(103, \"Suraj kr Gupta\", \"Noida\", \"SKG@gmail.com\")\n",
        "   print('The ID is:', Emp_1.id)\n",
        "   print('The name is:', Emp_1.name)\n",
        "   print('The Address is:', Emp_1.Add)\n",
        "   print('The Emails is:', Emp_1.Emails)'''"
      ],
      "metadata": {
        "id": "yEtvu8HpJmX6",
        "colab": {
          "base_uri": "https://localhost:8080/",
          "height": 105
        },
        "outputId": "7ada0ee8-fbb4-42f8-9bc2-cbf0fe960c44"
      },
      "execution_count": null,
      "outputs": [
        {
          "output_type": "execute_result",
          "data": {
            "text/plain": [
              "'The super() function is used to give access to methods and properties of a parent or sibling class. The super() function returns an object that represents the parent class.\\n   Example:\\n   class Emp():\\n    def __init__(self, id, name, Add):\\n      self.id = id\\n      self.name = name\\n      self.Add = Add\\n   class Freelance(Emp):\\n    def __init__(self, id, name, Add, Emails):\\n      super().__init__(id, name, Add)\\n      self.Emails = Emails\\n   Emp_1 = Freelance(103, \"Suraj kr Gupta\", \"Noida\", \"SKG@gmail.com\")\\n   print(\\'The ID is:\\', Emp_1.id)\\n   print(\\'The name is:\\', Emp_1.name)\\n   print(\\'The Address is:\\', Emp_1.Add)\\n   print(\\'The Emails is:\\', Emp_1.Emails)'"
            ],
            "application/vnd.google.colaboratory.intrinsic+json": {
              "type": "string"
            }
          },
          "metadata": {},
          "execution_count": 5
        }
      ]
    },
    {
      "cell_type": "code",
      "source": [
        "#7. Create a python class called 'Animal' with a method 'speak()'. Then,create child classes 'Dog' and 'Cat' that inherit from 'Animal' and override the 'speak()' method. Provide an example of using these classes.\n",
        "\n",
        "class Animal:\n",
        "    def speak(self):\n",
        "        pass\n",
        "\n",
        "class Dog(Animal):\n",
        "    def speak(self):\n",
        "        pass\n",
        "\n",
        "class Cat(Animal):\n",
        "    def speak(self):\n",
        "        pass\n",
        "dog = Dog()\n",
        "dog.speak()\n",
        "\n",
        "cat = Cat()\n",
        "cat.speak()"
      ],
      "metadata": {
        "id": "ndM5_v_vJ72B"
      },
      "execution_count": 3,
      "outputs": []
    },
    {
      "cell_type": "code",
      "source": [
        "#8. Explain the role of the 'isinstance()' function in python and how it relates to inheritance.\n",
        "\n",
        "'''The isinstance() function checks whether an object is an instance of the class mentioned. One can test if an object or variable is an instance of the type or class. If inheritance is present in the program, then the function can be used to check if a specified class is the parent class of an object.'''"
      ],
      "metadata": {
        "id": "fAnclPEBKnEv",
        "colab": {
          "base_uri": "https://localhost:8080/",
          "height": 53
        },
        "outputId": "5762b77b-4e24-42fb-ce4a-6e84f8b97a93"
      },
      "execution_count": null,
      "outputs": [
        {
          "output_type": "execute_result",
          "data": {
            "text/plain": [
              "'The isinstance() function checks whether an object is an instance of the class mentioned. One can test if an object or variable is an instance of the type or class. If inheritance is present in the program, then the function can be used to check if a specified class is the parent class of an object.'"
            ],
            "application/vnd.google.colaboratory.intrinsic+json": {
              "type": "string"
            }
          },
          "metadata": {},
          "execution_count": 6
        }
      ]
    },
    {
      "cell_type": "code",
      "source": [
        "#9. What is the purpose of the 'issubclass()' function in python? Provide an example.\n",
        "\n",
        "'''Python issubclass() is a built-in function used to check if a class is a subclass of another class or not. This function returns True if the given class is the subclass of the given class else it returns False.\n",
        "   Example:\n",
        "   print(\"Float is the subclass of str:\", issubclass(float,str))\n",
        "   print(\"Bool is the subclass of int:\", issubclass(bool, int))\n",
        "   print(\"int is the subclass of float:\", issubclass(int, float))\n",
        "   import collections\n",
        "   print('collections.defaultdict is the subclass of dict:', issubclass(collections.defaultdict, dict))'''"
      ],
      "metadata": {
        "id": "JS7L6hDeLFND",
        "colab": {
          "base_uri": "https://localhost:8080/",
          "height": 87
        },
        "outputId": "14040a7a-90bb-46a3-d2cf-221de6ea2948"
      },
      "execution_count": null,
      "outputs": [
        {
          "output_type": "execute_result",
          "data": {
            "text/plain": [
              "'Python issubclass() is a built-in function used to check if a class is a subclass of another class or not. This function returns True if the given class is the subclass of the given class else it returns False.\\n   Example:\\n   print(\"Float is the subclass of str:\", issubclass(float,str))\\n   print(\"Bool is the subclass of int:\", issubclass(bool, int))\\n   print(\"int is the subclass of float:\", issubclass(int, float))\\n   import collections\\n   print(\\'collections.defaultdict is the subclass of dict:\\', issubclass(collections.defaultdict, dict))'"
            ],
            "application/vnd.google.colaboratory.intrinsic+json": {
              "type": "string"
            }
          },
          "metadata": {},
          "execution_count": 7
        }
      ]
    },
    {
      "cell_type": "code",
      "source": [
        "#10. Discuss the concept of constructor inheritance in python. How are constructors inherited in child classes?\n",
        "\n",
        "'''Inheritance is a feature that says if we define a new class giving a reference of some other class then due to inheriting property of python our new class will inherit all attributes and behavior of the parent class. A constructor is a special kind of method that have same name as the class in python self variable do the same. It can be used to set the values of the members of an object.Python used the inheritance attribute lookup to find __init__in animal class. When we create the child class, furst it will look the __init__ method in the dog class, then it didn't find it then looked into parent class Animal and found there and called that there.'''"
      ],
      "metadata": {
        "id": "kYC0UTFCLX2D",
        "colab": {
          "base_uri": "https://localhost:8080/",
          "height": 105
        },
        "outputId": "3fc3107e-99d1-4ac5-f0dc-3c8cd2d10c38"
      },
      "execution_count": null,
      "outputs": [
        {
          "output_type": "execute_result",
          "data": {
            "text/plain": [
              "\"Inheritance is a feature that says if we define a new class giving a reference of some other class then due to inheriting property of python our new class will inherit all attributes and behavior of the parent class. A constructor is a special kind of method that have same name as the class in python self variable do the same. It can be used to set the values of the members of an object.Python used the inheritance attribute lookup to find __init__in animal class. When we create the child class, furst it will look the __init__ method in the dog class, then it didn't find it then looked into parent class Animal and found there and called that there.\""
            ],
            "application/vnd.google.colaboratory.intrinsic+json": {
              "type": "string"
            }
          },
          "metadata": {},
          "execution_count": 9
        }
      ]
    },
    {
      "cell_type": "code",
      "source": [
        "#11. Create a python class called 'Shape' with a method 'area()' that calculatesthe area of a shape. Then, create child classes 'Circle' and 'Rectangle' that inherit from 'Shape' and implement the 'area()' method accordingly. Provide an example.\n",
        "\n",
        "class Shape:\n",
        "    def area(self):\n",
        "        pass\n",
        "\n",
        "class Circle(Shape):\n",
        "    def area(self, radius):\n",
        "        return 3.14 * radius * radius\n",
        "\n",
        "class Rectangle(Shape):\n",
        "    def area(self, length, width):\n",
        "        return length * width\n",
        "\n",
        "circle = Circle()\n",
        "circle_area = circle.area(5)\n",
        "print(\"Area of Circle:\", circle_area)\n",
        "\n",
        "rectangle = Rectangle()\n",
        "rectangle_area = rectangle.area(4, 6)\n",
        "print(\"Area of Rectangle:\", rectangle_area)"
      ],
      "metadata": {
        "id": "A9-RCOQqLr_V",
        "colab": {
          "base_uri": "https://localhost:8080/"
        },
        "outputId": "372e824a-0ba4-406f-c66f-2799afb64014"
      },
      "execution_count": 4,
      "outputs": [
        {
          "output_type": "stream",
          "name": "stdout",
          "text": [
            "Area of Circle: 78.5\n",
            "Area of Rectangle: 24\n"
          ]
        }
      ]
    },
    {
      "cell_type": "code",
      "source": [
        "#12. Explain the use of abstract base classes(ABCs) in python and how they relate to inheritance. Provide an example using the 'abc' module.\n",
        "\n",
        "'''A method becomes abstract when decorated with the keyword @abstarctmethod. This code defines an abstract base class called \"Polygon\" using the ABC(Abstract Base Class) module in python. The \"Polygon\" class has an abstract method called \"noofsides\" that needs to be implemented by its subclasses.\n",
        "   Example:\n",
        "   from abc import ABC, abstractmethod\n",
        "   class Animal(ABC):\n",
        "    def move(self):\n",
        "      pass\n",
        "   class Human(Animal):\n",
        "    def move(self):\n",
        "      print(\"I can walk and run.\")\n",
        "   class Snake(Animal):\n",
        "    def move(self):\n",
        "      print(\"I can crawl\")\n",
        "   class Dog(Animal):\n",
        "    def move(self)\n",
        "      print(\"I can bark\")\n",
        "   class Lion(Animal):\n",
        "    def move(self):\n",
        "      print(\"I can roar\")\n",
        "   R = Human()\n",
        "   R.move()'''"
      ],
      "metadata": {
        "id": "OgTllkoAMd-9",
        "colab": {
          "base_uri": "https://localhost:8080/",
          "height": 105
        },
        "outputId": "fb54f1c3-92ed-400c-e3a2-7b1644946c6b"
      },
      "execution_count": null,
      "outputs": [
        {
          "output_type": "execute_result",
          "data": {
            "text/plain": [
              "'A method becomes abstract when decorated with the keyword @abstarctmethod. This code defines an abstract base class called \"Polygon\" using the ABC(Abstract Base Class) module in python. The \"Polygon\" class has an abstract method called \"noofsides\" that needs to be implemented by its subclasses.\\n   Example:\\n   from abc import ABC, abstractmethod\\n   class Animal(ABC):\\n    def move(self):\\n      pass\\n   class Human(Animal):\\n    def move(self):\\n      print(\"I can walk and run.\")\\n   class Snake(Animal):\\n    def move(self):\\n      print(\"I can crawl\")\\n   class Dog(Animal):\\n    def move(self)\\n      print(\"I can bark\")\\n   class Lion(Animal):\\n    def move(self):\\n      print(\"I can roar\")\\n   R = Human()\\n   R.move()'"
            ],
            "application/vnd.google.colaboratory.intrinsic+json": {
              "type": "string"
            }
          },
          "metadata": {},
          "execution_count": 11
        }
      ]
    },
    {
      "cell_type": "code",
      "source": [
        "#13. How can you prevent a child class from modifying certain attributes or methods inherited from a parent class in python?\n",
        "\n",
        "'''Python also has a super() function that will make the child class inherit all the methods and properties from its parent. By, using the super() function, we do not have to use the name of the parent element, it will automatically inherit the methods and properties from its parent.'''"
      ],
      "metadata": {
        "id": "LCTaNaomM6Td",
        "colab": {
          "base_uri": "https://localhost:8080/",
          "height": 53
        },
        "outputId": "f1d976ea-b761-4558-8ccd-2b4621358bc9"
      },
      "execution_count": null,
      "outputs": [
        {
          "output_type": "execute_result",
          "data": {
            "text/plain": [
              "'Python also has a super() function that will make the child class inherit all the methods and properties from its parent. By, using the super() function, we do not have to use the name of the parent element, it will automatically inherit the methods and properties from its parent.'"
            ],
            "application/vnd.google.colaboratory.intrinsic+json": {
              "type": "string"
            }
          },
          "metadata": {},
          "execution_count": 7
        }
      ]
    },
    {
      "cell_type": "code",
      "source": [
        "#14. Create a python class called 'Employee' with attributes 'name' and 'salary'. Then, create a child class 'Manager' that inherits from 'Employee' and adds an attribute 'department'. Provide an example.\n",
        "\n",
        "class Employee:\n",
        "    def __init__(self, name, salary):\n",
        "        self.name = name\n",
        "        self.salary = salary\n",
        "class Manager(Employee):\n",
        "    def __init__(self, name, salary, department):\n",
        "        super().__init__(name, salary)\n",
        "        self.department = department\n",
        "employee = Employee(\"Sanyogita\", 5000)\n",
        "manager = Manager(\"Shailesh\", 8000, \"Sales\")\n",
        "print(employee.name)\n",
        "print(manager.department)\n"
      ],
      "metadata": {
        "id": "I5Pwj9aZNP1m",
        "colab": {
          "base_uri": "https://localhost:8080/"
        },
        "outputId": "be9f626e-7388-4409-8020-62a44be41da9"
      },
      "execution_count": null,
      "outputs": [
        {
          "output_type": "stream",
          "name": "stdout",
          "text": [
            "Sanyogita\n",
            "Sales\n"
          ]
        }
      ]
    },
    {
      "cell_type": "code",
      "source": [
        "#15. Discuss the concept of method overloading in python inheritance. How does it differ from method overriding?\n",
        "\n",
        "'''Method Overloading is a fundermental concept in OOP that enables a class to define multiple methods with the same name but different parameters. In Python, this powerful feature allows developers to create versatile functions capable of handling various data types.It also helps perform distinct operations based on the types and number of arguments passed. In the process of method overloading, all the functions or methods must contain the same name with varied signatures.In the process of method overriding, all the functions or methods must possess the very same name along with similar signatures.'''"
      ],
      "metadata": {
        "id": "E4B99mBiPXPO",
        "colab": {
          "base_uri": "https://localhost:8080/",
          "height": 87
        },
        "outputId": "3c65ef66-c018-4214-c380-6627d8c45583"
      },
      "execution_count": null,
      "outputs": [
        {
          "output_type": "execute_result",
          "data": {
            "text/plain": [
              "'Method Overloading is a fundermental concept in OOP that enables a class to define multiple methods with the same name but different parameters. In Python, this powerful feature allows developers to create versatile functions capable of handling various data types.It also helps perform distinct operations based on the types and number of arguments passed. In the process of method overloading, all the functions or methods must contain the same name with varied signatures.In the process of method overriding, all the functions or methods must possess the very same name along with similar signatures.'"
            ],
            "application/vnd.google.colaboratory.intrinsic+json": {
              "type": "string"
            }
          },
          "metadata": {},
          "execution_count": 8
        }
      ]
    },
    {
      "cell_type": "code",
      "source": [
        "#16. Explain the purpose of the '__init__()' method in python inheritance and how it is utilized in child classes.\n",
        "\n",
        "'''Inheritance allows the child class to inherit the __init__() method of the parent class along with the other data members and member functions of that class. The __init__ method of the parent or the base class is called within the __init__ method of the child or sub class.'''"
      ],
      "metadata": {
        "id": "b2sJIWjSPzkA",
        "colab": {
          "base_uri": "https://localhost:8080/",
          "height": 53
        },
        "outputId": "f6f5bb5b-eef4-4f9f-d665-6be15da493d0"
      },
      "execution_count": null,
      "outputs": [
        {
          "output_type": "execute_result",
          "data": {
            "text/plain": [
              "'Inheritance allows the child class to inherit the __init__() method of the parent class along with the other data members and member functions of that class. The __init__ method of the parent or the base class is called within the __init__ method of the child or sub class.'"
            ],
            "application/vnd.google.colaboratory.intrinsic+json": {
              "type": "string"
            }
          },
          "metadata": {},
          "execution_count": 4
        }
      ]
    },
    {
      "cell_type": "code",
      "source": [
        "#17. Create a python class called 'Bird' with a method 'Fly()'. Then, create child classes 'Eagle' and 'Sparrow' that inherit from 'Bird' and implement the 'fly()' method differently. Provide an example of using these classes.\n",
        "\n",
        "class Bird:\n",
        "    def fly(self):\n",
        "        print(\"The bird is flying.\")\n",
        "\n",
        "class Eagle(Bird):\n",
        "    def fly(self):\n",
        "        print(\"The eagle is soaring high in the sky.\")\n",
        "\n",
        "class Sparrow(Bird):\n",
        "    def fly(self):\n",
        "        print(\"The sparrow is fluttering its wings and flying around.\")\n",
        "\n",
        "bird = Bird()\n",
        "bird.fly()\n",
        "\n",
        "eagle = Eagle()\n",
        "eagle.fly()\n",
        "\n",
        "sparrow = Sparrow()\n",
        "sparrow.fly()"
      ],
      "metadata": {
        "id": "0Xf8EQafQLKn",
        "colab": {
          "base_uri": "https://localhost:8080/"
        },
        "outputId": "58132daf-72bb-4c62-fdfd-1d3b8198b70e"
      },
      "execution_count": null,
      "outputs": [
        {
          "output_type": "stream",
          "name": "stdout",
          "text": [
            "The bird is flying.\n",
            "The eagle is soaring high in the sky.\n",
            "The sparrow is fluttering its wings and flying around.\n"
          ]
        }
      ]
    },
    {
      "cell_type": "code",
      "source": [
        "#18. What is the \"Diamond problem\" in multiple inheritance, and how does python address it?\n",
        "\n",
        "'''The diamond problem is the generally used term for an ambiguity that rises when two classes B and C inherit from a superclass A, and another class D inherits from both B and C.This program is an example of inheritance in Python. It defines four classes: A, B, C, and D.'''"
      ],
      "metadata": {
        "id": "pLobuxhEQ_Qs",
        "colab": {
          "base_uri": "https://localhost:8080/",
          "height": 53
        },
        "outputId": "a1336fa7-b2df-4c1f-cf22-116c2016566c"
      },
      "execution_count": null,
      "outputs": [
        {
          "output_type": "execute_result",
          "data": {
            "text/plain": [
              "'The diamond problem is the generally used term for an ambiguity that rises when two classes B and C inherit from a superclass A, and another class D inherits from both B and C.This program is an example of inheritance in Python. It defines four classes: A, B, C, and D.'"
            ],
            "application/vnd.google.colaboratory.intrinsic+json": {
              "type": "string"
            }
          },
          "metadata": {},
          "execution_count": 2
        }
      ]
    },
    {
      "cell_type": "code",
      "source": [
        "#19. Discuss the concept of \"is-a\" and \"has-a\" relationships in inheritance, and provide examples of each.\n",
        "\n",
        "'''IS-A relationships: In object-oriented programming, the concept of IS-A is a totally based on inheritance, which can be of two types class Inheritance, which can be of two types class inheritance or interface inheritance. It is just like saying \"A is a B type of thing\". For example: House is a Building. But Building is not a House.\n",
        "   HAS-A relationship: Compositions(HAS-A) simply mean the use of instance variables that are references to other objects. For example: Maruti has Engine, or House has Bathroom.'''"
      ],
      "metadata": {
        "id": "ZyXgwpevRRFY",
        "colab": {
          "base_uri": "https://localhost:8080/",
          "height": 87
        },
        "outputId": "a9b78b4f-f1a8-4b11-ecb5-478c59c5ccac"
      },
      "execution_count": null,
      "outputs": [
        {
          "output_type": "execute_result",
          "data": {
            "text/plain": [
              "'IS-A relationships: In object-oriented programming, the concept of IS-A is a totally based on inheritance, which can be of two types class Inheritance, which can be of two types class inheritance or interface inheritance. It is just like saying \"A is a B type of thing\". For example: House is a Building. But Building is not a House.\\n   HAS-A relationship: Compositions(HAS-A) simply mean the use of instance variables that are references to other objects. For example: Maruti has Engine, or House has Bathroom.'"
            ],
            "application/vnd.google.colaboratory.intrinsic+json": {
              "type": "string"
            }
          },
          "metadata": {},
          "execution_count": 1
        }
      ]
    },
    {
      "cell_type": "code",
      "source": [
        "#20. Create a python class hierarchy for a university system. Start with a base class 'Person' and create child classes 'Student' and 'Professor', each with their own attributes and methods. Provide an example of using these classes in a university context.\n",
        "\n",
        "class Person:\n",
        "    def __init__(self, name, age):\n",
        "        self.name = name\n",
        "        self.age = age\n",
        "\n",
        "    def introduce(self):\n",
        "        print(f\"Hello, my name is {self.name} and I am {self.age} years old.\")\n",
        "\n",
        "class Student(Person):\n",
        "    def __init__(self, name, age, major):\n",
        "        super().__init__(name, age)\n",
        "        self.major = major\n",
        "\n",
        "    def study(self):\n",
        "        print(f\"I am studying {self.major}.\")\n",
        "\n",
        "class Professor(Person):\n",
        "    def __init__(self, name, age, department):\n",
        "        super().__init__(name, age)\n",
        "        self.department = department\n",
        "\n",
        "    def teach(self):\n",
        "        print(f\"I am teaching in the {self.department} department.\")\n",
        "\n",
        "student = Student(\"Sanyogita Singh\", 20, \"Computer Science\")\n",
        "student.introduce()\n",
        "student.study()\n",
        "\n",
        "professor = Professor(\"Sudhanshu Gupta\", 35, \"Mathematics\")\n",
        "professor.introduce()\n",
        "professor.teach()"
      ],
      "metadata": {
        "id": "fSGewFqpRqoW",
        "colab": {
          "base_uri": "https://localhost:8080/"
        },
        "outputId": "d434ac05-612b-425b-cebb-28a53c99e962"
      },
      "execution_count": null,
      "outputs": [
        {
          "output_type": "stream",
          "name": "stdout",
          "text": [
            "Hello, my name is Sanyogita Singh and I am 20 years old.\n",
            "I am studying Computer Science.\n",
            "Hello, my name is Sudhanshu Gupta and I am 35 years old.\n",
            "I am teaching in the Mathematics department.\n"
          ]
        }
      ]
    },
    {
      "cell_type": "code",
      "source": [
        "#Encapsulation\n",
        "#1. Explain the concept of encaplulation in python. What is its role in object oriented programming?\n",
        "\n",
        "'''Encapsulation is one of the fundamental concepts in object-oriented programming. It describes the idea of wrapping data and the methods that work on data within one unit. This puts restrictions on accessing variables and methods directly and can prevent the accidental modification of data.'''"
      ],
      "metadata": {
        "id": "4LHsSZqNSbCH",
        "colab": {
          "base_uri": "https://localhost:8080/",
          "height": 53
        },
        "outputId": "af4265e7-0042-47bd-ee29-97727e1c0200"
      },
      "execution_count": null,
      "outputs": [
        {
          "output_type": "execute_result",
          "data": {
            "text/plain": [
              "'Encapsulation is one of the fundamental concepts in object-oriented programming. It describes the idea of wrapping data and the methods that work on data within one unit. This puts restrictions on accessing variables and methods directly and can prevent the accidental modification of data.'"
            ],
            "application/vnd.google.colaboratory.intrinsic+json": {
              "type": "string"
            }
          },
          "metadata": {},
          "execution_count": 1
        }
      ]
    },
    {
      "cell_type": "code",
      "source": [
        "#2. Describe the key principles of encapsulation, including access control and data hiding.\n",
        "\n",
        "'''Encapsulation promotes the idea of data hiding, also known as information hiding. It means that the internal state(data) of an object should not be directly accessible from outside the object. Instead, access to the object's data should be controlled through well-defined methods.'''"
      ],
      "metadata": {
        "id": "Dcy-yMQINWMi",
        "colab": {
          "base_uri": "https://localhost:8080/",
          "height": 53
        },
        "outputId": "e17313d1-c307-4313-c0ac-4a39f5890378"
      },
      "execution_count": null,
      "outputs": [
        {
          "output_type": "execute_result",
          "data": {
            "text/plain": [
              "\"Encapsulation promotes the idea of data hiding, also known as information hiding. It means that the internal state(data) of an object should not be directly accessible from outside the object. Instead, access to the object's data should be controlled through well-defined methods.\""
            ],
            "application/vnd.google.colaboratory.intrinsic+json": {
              "type": "string"
            }
          },
          "metadata": {},
          "execution_count": 3
        }
      ]
    },
    {
      "cell_type": "code",
      "source": [
        "#3. How can you achieve encapsulation in python classes? Provide an example.\n",
        "\n",
        "class Base:\n",
        "  def __init__(self):\n",
        "    self.a = \"Sanyogita Singh\"\n",
        "    self.__c = \"Manan Singh\"\n",
        "class Derived(Base):\n",
        "  def __init__(self):\n",
        "    Base.__init__(self)\n",
        "    print(\"Calling privatemember of base class: \")\n",
        "    print(self.__c)\n",
        "obj1 = Base()\n",
        "print(obj1.a)"
      ],
      "metadata": {
        "id": "4tsezZchNqc2",
        "colab": {
          "base_uri": "https://localhost:8080/"
        },
        "outputId": "e0fd16ce-6138-447d-d207-734d44e24c91"
      },
      "execution_count": null,
      "outputs": [
        {
          "output_type": "stream",
          "name": "stdout",
          "text": [
            "Sanyogita Singh\n"
          ]
        }
      ]
    },
    {
      "cell_type": "code",
      "source": [
        "#4. Discuss the difference between public, private, and protected access modifiers in python.\n",
        "\n",
        "'''Python uses a specific naming convention to make any variables/methods protected and private inside the class and all the variables and methods defined inside the python class are public by default. Public data attributes are accessible by any class and function, protected data attributes should only be accessed inside the class enviroment and can also be accessed inside the sub-classes and private data attributes are only accessible the class.'''"
      ],
      "metadata": {
        "id": "GyhG7bvtN6S4",
        "colab": {
          "base_uri": "https://localhost:8080/",
          "height": 70
        },
        "outputId": "7eeb57ad-2478-4eff-a61f-d1707481c9ba"
      },
      "execution_count": null,
      "outputs": [
        {
          "output_type": "execute_result",
          "data": {
            "text/plain": [
              "'Python uses a specific naming convention to make any variables/methods protected and private inside the class and all the variables and methods defined inside the python class are public by default. Public data attributes are accessible by any class and function, protected data attributes should only be accessed inside the class enviroment and can also be accessed inside the sub-classes and private data attributes are only accessible the class.'"
            ],
            "application/vnd.google.colaboratory.intrinsic+json": {
              "type": "string"
            }
          },
          "metadata": {},
          "execution_count": 6
        }
      ]
    },
    {
      "cell_type": "code",
      "source": [
        "#5. Create a python class called 'Person' with a private attribute '__name'. Provide methods to get and set the name attribute.\n",
        "\n",
        "class Person:\n",
        "    def __init__(self):\n",
        "        self.__name = \"\"\n",
        "\n",
        "    def get_name(self):\n",
        "        return self.__name\n",
        "\n",
        "    def set_name(self, name):\n",
        "        self.__name = name"
      ],
      "metadata": {
        "id": "YE3xyVE7OMc_"
      },
      "execution_count": 5,
      "outputs": []
    },
    {
      "cell_type": "code",
      "source": [
        "#6. Explain the purpose of getter and setter methods in encapsulation? Provide examples.\n",
        "\n",
        "'''Getter and setter methods are used in python to achieve encapsulation. They control the access to the private variables in python. Getter and setter methods are also used to validate values assigned to the attributes. This prevents any invalid values from being initialised to the variables.\n",
        "   Example:\n",
        "   class Program:\n",
        "    def __init__(self, age = 0):\n",
        "      self._age = age\n",
        "    def get_age(self):\n",
        "      return self._age\n",
        "    def set_age(self, x):\n",
        "      self._age = x\n",
        "    raj = Program()\n",
        "    raj.set_age(21)\n",
        "    print(raj.get_age())\n",
        "    print(raj._age)'''"
      ],
      "metadata": {
        "id": "9R8jhzFFOmjW",
        "colab": {
          "base_uri": "https://localhost:8080/",
          "height": 87
        },
        "outputId": "e5c55c7e-624a-4a02-9ccc-f779d2c6320e"
      },
      "execution_count": null,
      "outputs": [
        {
          "output_type": "execute_result",
          "data": {
            "text/plain": [
              "'Getter and setter methods are used in python to achieve encapsulation. They control the access to the private variables in python. Getter and setter methods are also used to validate values assigned to the attributes. This prevents any invalid values from being initialised to the variables.\\n   Example:\\n   class Program:\\n    def __init__(self, age = 0):\\n      self._age = age\\n    def get_age(self):\\n      return self._age\\n    def set_age(self, x):\\n      self._age = x\\n    raj = Program()\\n    raj.set_age(21)\\n    print(raj.get_age())\\n    print(raj._age)'"
            ],
            "application/vnd.google.colaboratory.intrinsic+json": {
              "type": "string"
            }
          },
          "metadata": {},
          "execution_count": 8
        }
      ]
    },
    {
      "cell_type": "code",
      "source": [
        "#7. What is name mangling in python, and how does it affect encapsulation?\n",
        "\n",
        "'''Mangling means that any identifier in the form such as __Jtp(Either at least two leading underscores or at most one underscore trailing the name) will be replaced by __ClassName__Jtp (the name of the current class will replace ClassName) with the leading underscore (s) striped in ClassName. '''"
      ],
      "metadata": {
        "id": "sSKbV_rcOx52",
        "colab": {
          "base_uri": "https://localhost:8080/",
          "height": 53
        },
        "outputId": "1dd23356-3697-47fd-ea0b-b1c19fbef95d"
      },
      "execution_count": null,
      "outputs": [
        {
          "output_type": "execute_result",
          "data": {
            "text/plain": [
              "'Mangling means that any identifier in the form such as __Jtp(Either at least two leading underscores or at most one underscore trailing the name) will be replaced by __ClassName__Jtp (the name of the current class will replace ClassName) with the leading underscore (s) striped in ClassName. '"
            ],
            "application/vnd.google.colaboratory.intrinsic+json": {
              "type": "string"
            }
          },
          "metadata": {},
          "execution_count": 9
        }
      ]
    },
    {
      "cell_type": "code",
      "source": [
        "#8. Create a python class called 'BankAccount' with private attributes for the account balance('__balance') and account number('__account_number'). Provide methods for depositing and withdrawing money.\n",
        "\n",
        "class BankAccount:\n",
        "    def __init__(self):\n",
        "        self.__balance = 0\n",
        "        self.__account_number = \"\"\n",
        "\n",
        "    def deposit(self, amount):\n",
        "        self.__balance += amount\n",
        "\n",
        "    def withdraw(self, amount):\n",
        "        if self.__balance >= amount:\n",
        "            self.__balance -= amount\n",
        "        else:\n",
        "            print(\"Insufficient funds\")\n",
        "\n",
        "    def get_balance(self):\n",
        "        return self.__balance\n",
        "\n",
        "    def get_account_number(self):\n",
        "        return self.__account_number"
      ],
      "metadata": {
        "id": "Dci4-Hj1PG_5"
      },
      "execution_count": 6,
      "outputs": []
    },
    {
      "cell_type": "code",
      "source": [
        "#9. Discuss the advantages of encapsulation in terms of code maintainability and security.\n",
        "\n",
        "'''Encapsulation in programming is used to improve code maintainability, security, and flexibility. It enables the bundling of data and methods that operate on that data within a single unit(i.e., a class or object), making it easier to manage and understand.'''"
      ],
      "metadata": {
        "id": "0oDJ8r5LP8-7",
        "colab": {
          "base_uri": "https://localhost:8080/",
          "height": 53
        },
        "outputId": "34f46221-f15d-4950-e386-395060c2ea1f"
      },
      "execution_count": null,
      "outputs": [
        {
          "output_type": "execute_result",
          "data": {
            "text/plain": [
              "'Encapsulation in programming is used to improve code maintainability, security, and flexibility. It enables the bundling of data and methods that operate on that data within a single unit(i.e., a class or object), making it easier to manage and understand.'"
            ],
            "application/vnd.google.colaboratory.intrinsic+json": {
              "type": "string"
            }
          },
          "metadata": {},
          "execution_count": 10
        }
      ]
    },
    {
      "cell_type": "code",
      "source": [
        "#10. How can you access private attributes in python? Provide an example demonstrating the use of name mangling.\n",
        "\n",
        "'''In python, private attributes are denotd by a double underscore prefix before the attribute name(e.g., __private_attribute). The idea behind private attributes is that they canonly be accessed within the class and should not be accessed from outside the class.'''"
      ],
      "metadata": {
        "id": "fjjODti-QwWg",
        "colab": {
          "base_uri": "https://localhost:8080/",
          "height": 53
        },
        "outputId": "ed19a7dc-f41e-4615-bbe5-22cd91bdbf13"
      },
      "execution_count": null,
      "outputs": [
        {
          "output_type": "execute_result",
          "data": {
            "text/plain": [
              "'In python, private attributes are denotd by a double underscore prefix before the attribute name(e.g., __private_attribute). The idea behind private attributes is that they canonly be accessed within the class and should not be accessed from outside the class.'"
            ],
            "application/vnd.google.colaboratory.intrinsic+json": {
              "type": "string"
            }
          },
          "metadata": {},
          "execution_count": 11
        }
      ]
    },
    {
      "cell_type": "code",
      "source": [
        "#11. Create a python class hierarchy for a school system, including classes for students, teachers, and courses, and implement encapsulation principles to protect sensitive information.\n",
        "\n",
        "class Person:\n",
        "    def __init__(self, name, age, address):\n",
        "        self.name = name\n",
        "        self.age = age\n",
        "        self.address = address\n",
        "\n",
        "class Student(Person):\n",
        "    def __init__(self, name, age, address, student_id):\n",
        "        super().__init__(name, age, address)\n",
        "        self.student_id = student_id\n",
        "\n",
        "class Teacher(Person):\n",
        "    def __init__(self, name, age, address, teacher_id):\n",
        "        super().__init__(name, age, address)\n",
        "        self.teacher_id = teacher_id\n",
        "\n",
        "class Course:\n",
        "    def __init__(self, course_name, teacher, students):\n",
        "        self.course_name = course_name\n",
        "        self.teacher = teacher\n",
        "        self.students = students"
      ],
      "metadata": {
        "id": "QZy61cCkRIzC"
      },
      "execution_count": 7,
      "outputs": []
    },
    {
      "cell_type": "code",
      "source": [
        "#12. Explain the concept of property decorators in python and how they relate to encapsulation.\n",
        "\n",
        "'''Decorators are a powerful and elegant feature in python that allows you to modify or extend the behavoiur of functions or methods without changing their actual code. They are an excellent way to apply reuseable functiionality across multiple functions, such as timing, caching, logging, or authentication. The @property decorator transforms a method into a \"getter\" for a property, making it easy to access the encapsulated data.'''"
      ],
      "metadata": {
        "id": "6pLfZt9yRr99",
        "colab": {
          "base_uri": "https://localhost:8080/",
          "height": 70
        },
        "outputId": "658c7e06-b31a-4b8e-d3c4-479c91d838cc"
      },
      "execution_count": null,
      "outputs": [
        {
          "output_type": "execute_result",
          "data": {
            "text/plain": [
              "'Decorators are a powerful and elegant feature in python that allows you to modify or extend the behavoiur of functions or methods without changing their actual code. They are an excellent way to apply reuseable functiionality across multiple functions, such as timing, caching, logging, or authentication. The @property decorator transforms a method into a \"getter\" for a property, making it easy to access the encapsulated data.'"
            ],
            "application/vnd.google.colaboratory.intrinsic+json": {
              "type": "string"
            }
          },
          "metadata": {},
          "execution_count": 12
        }
      ]
    },
    {
      "cell_type": "code",
      "source": [
        "#13. What is data hiding and why is it important in encapsulation? Provide examples.\n",
        "\n",
        "'''Data hiding is an object-oriented programming(OOP) techique specifically used to hide internal object details(i.e., data members). Data hiding guarantees exclusive data access to class members only and protects and maintains object integrity by preventing intended or unintended changes and intrusions. Data encapsulation focuses on wrapping (i.e., encapsulating) complex data to offer a simplified perspective to the users, while data hiding focuses on restricting a program's data use to ensure data security. Data encapsulation targets how the data is accessed and how different objects behave.\n",
        "   Example:\n",
        "   class JustCounter:\n",
        "    __secretCount = 0\n",
        "    def count(self):\n",
        "      self.__secretCount += 1\n",
        "      print self.__secretCount\n",
        "   counter = JustCounter()\n",
        "   counter.count()\n",
        "   counter.count()\n",
        "   print counter.__secretCount'''"
      ],
      "metadata": {
        "id": "I6iMH2V0SOog",
        "colab": {
          "base_uri": "https://localhost:8080/",
          "height": 122
        },
        "outputId": "27fa70c4-ef84-4a2a-f07e-2091d63ea783"
      },
      "execution_count": null,
      "outputs": [
        {
          "output_type": "execute_result",
          "data": {
            "text/plain": [
              "\"Data hiding is an object-oriented programming(OOP) techique specifically used to hide internal object details(i.e., data members). Data hiding guarantees exclusive data access to class members only and protects and maintains object integrity by preventing intended or unintended changes and intrusions. Data encapsulation focuses on wrapping (i.e., encapsulating) complex data to offer a simplified perspective to the users, while data hiding focuses on restricting a program's data use to ensure data security. Data encapsulation targets how the data is accessed and how different objects behave.\\n   Example:\\n   class JustCounter:\\n    __secretCount = 0\\n    def count(self):\\n      self.__secretCount += 1\\n      print self.__secretCount\\n   counter = JustCounter()\\n   counter.count()\\n   counter.count()\\n   print counter.__secretCount\""
            ],
            "application/vnd.google.colaboratory.intrinsic+json": {
              "type": "string"
            }
          },
          "metadata": {},
          "execution_count": 13
        }
      ]
    },
    {
      "cell_type": "code",
      "source": [
        "#14. Create a python class 'Employee' and private attributes for salary ('__salary') and employees ID ('__employee_id'). Provide a method to calculate yearly bonus.\n",
        "\n",
        "class Employee:\n",
        "    def __init__(self, salary, employee_id):\n",
        "        self.__salary = salary\n",
        "        self.__employee_id = employee_id\n",
        "\n",
        "    def calculate_yearly_bonus(self):\n",
        "        bonus_percentage = 0.1\n",
        "        bonus = self.__salary * bonus_percentage\n",
        "        return bonus\n",
        "employee = Employee(50000, 12345)\n",
        "\n",
        "yearly_bonus = employee.calculate_yearly_bonus()\n",
        "\n",
        "print(\"Yearly Bonus:\", yearly_bonus)"
      ],
      "metadata": {
        "id": "huMsanu5Scbn",
        "colab": {
          "base_uri": "https://localhost:8080/"
        },
        "outputId": "6026354e-dcdc-4d11-8582-50d370b20162"
      },
      "execution_count": 8,
      "outputs": [
        {
          "output_type": "stream",
          "name": "stdout",
          "text": [
            "Yearly Bonus: 5000.0\n"
          ]
        }
      ]
    },
    {
      "cell_type": "code",
      "source": [
        "#15. Discuss the use of accessors and mutators in encapsulation. How do they maintain control over attribute access?\n",
        "\n",
        "'''Accessor and mutator methods in python are used to access the private data of a class which cannot be accessed from outside the class. In object oriented programming the class object data is encapsulated i.e., the object data is kept private and cannot be accessed from outside the object.'''"
      ],
      "metadata": {
        "id": "DYpr6gUpVpGn",
        "colab": {
          "base_uri": "https://localhost:8080/",
          "height": 53
        },
        "outputId": "5bd35d85-e67e-4001-dd56-c4973b436e09"
      },
      "execution_count": null,
      "outputs": [
        {
          "output_type": "execute_result",
          "data": {
            "text/plain": [
              "'Accessor and mutator methods in python are used to access the private data of a class which cannot be accessed from outside the class. In object oriented programming the class object data is encapsulated i.e., the object data is kept private and cannot be accessed from outside the object.'"
            ],
            "application/vnd.google.colaboratory.intrinsic+json": {
              "type": "string"
            }
          },
          "metadata": {},
          "execution_count": 14
        }
      ]
    },
    {
      "cell_type": "code",
      "source": [
        "#16. What are the potential drawbacks or disadvantages of using encapsulation in python?\n",
        "\n",
        "'''Disadvantages of using encapsulation in python:\n",
        "   1. Code Size: The length of the code increases drastically in the case of encapsulation as we need to provide all the methods with the specifiers.\n",
        "   2.More Instructions: As the size of the code increases, therefore, you need to provide additional instructions for every method.\n",
        "   3. Increased code execution: Encapsualtion results in an increase in the duration of the program execution. It is because more instructions are added to the code therefore they require more time to execute.'''"
      ],
      "metadata": {
        "id": "0HSx1R0mWGrt",
        "colab": {
          "base_uri": "https://localhost:8080/",
          "height": 87
        },
        "outputId": "708a2d5a-6df2-4c15-d9ce-1efb9caeb3ec"
      },
      "execution_count": null,
      "outputs": [
        {
          "output_type": "execute_result",
          "data": {
            "text/plain": [
              "'Disadvantages of using encapsulation in python:\\n   1. Code Size: The length of the code increases drastically in the case of encapsulation as we need to provide all the methods with the specifiers.\\n   2.More Instructions: As the size of the code increases, therefore, you need to provide additional instructions for every method.\\n   3. Increased code execution: Encapsualtion results in an increase in the duration of the program execution. It is because more instructions are added to the code therefore they require more time to execute.'"
            ],
            "application/vnd.google.colaboratory.intrinsic+json": {
              "type": "string"
            }
          },
          "metadata": {},
          "execution_count": 15
        }
      ]
    },
    {
      "cell_type": "code",
      "source": [
        "#17. Create a python class for a library system that encapsulates book information , including titles, authors, and availability status.\n",
        "\n",
        "class LibrarySystem:\n",
        "    def __init__(self, title, author, availability):\n",
        "        self.title = title\n",
        "        self.author = author\n",
        "        self.availability = availability\n",
        "\n",
        "    def display_info(self):\n",
        "        print(f\"Title: {self.title}\")\n",
        "        print(f\"Author: {self.author}\")\n",
        "        print(f\"Availability: {self.availability}\")\n",
        "book1 = LibrarySystem(\"The Great Gatsby\", \"F. Scott Fitzgerald\", True)\n",
        "book2 = LibrarySystem(\"To Kill a Mockingbird\", \"Harper Lee\", False)\n",
        "\n",
        "book1.display_info()\n",
        "book2.display_info()"
      ],
      "metadata": {
        "id": "d1BzI__sWW6u",
        "colab": {
          "base_uri": "https://localhost:8080/"
        },
        "outputId": "24ee2e81-fb33-4819-b490-a36870f3bf12"
      },
      "execution_count": 10,
      "outputs": [
        {
          "output_type": "stream",
          "name": "stdout",
          "text": [
            "Title: The Great Gatsby\n",
            "Author: F. Scott Fitzgerald\n",
            "Availability: True\n",
            "Title: To Kill a Mockingbird\n",
            "Author: Harper Lee\n",
            "Availability: False\n"
          ]
        }
      ]
    },
    {
      "cell_type": "code",
      "source": [
        "#18. Explain how encapsulation enhances code reusability and modularity in python programs.\n",
        "\n",
        "'''Encapsulation encourages ocde reuse and extensibility in python in several ways: Inheritance: By defining a base classs with encapsulated members, we can create derived classes that inherit those members. This inheritance mechanism enables we to reuse and extend the functionality of existing classes.'''"
      ],
      "metadata": {
        "id": "67DLZl5TWscy",
        "colab": {
          "base_uri": "https://localhost:8080/",
          "height": 53
        },
        "outputId": "8d4b9076-053b-45a4-dbab-fb0dcf8fb394"
      },
      "execution_count": null,
      "outputs": [
        {
          "output_type": "execute_result",
          "data": {
            "text/plain": [
              "'Encapsulation encourages ocde reuse and extensibility in python in several ways: Inheritance: By defining a base classs with encapsulated members, we can create derived classes that inherit those members. This inheritance mechanism enables we to reuse and extend the functionality of existing classes.'"
            ],
            "application/vnd.google.colaboratory.intrinsic+json": {
              "type": "string"
            }
          },
          "metadata": {},
          "execution_count": 16
        }
      ]
    },
    {
      "cell_type": "code",
      "source": [
        "#19. Describe the concept of information hiding in encapsulation. Why is it essential in software development?\n",
        "\n",
        "'''Encapsulation is a way of binding together the data and the code that operates on the data. It is a mechanism use to hide the data implementation details while exposing the data abstraction to the outside world. The process of hiding information behind a well-defined interface is known as encapsualtion. Encapsulation offers several advantages in software development: Data hiding ensures that the internal state of an object is shielding from external manipulation, preventing data corruption and ensuring data integrity.'''"
      ],
      "metadata": {
        "id": "TNtKXYtHXDrR",
        "colab": {
          "base_uri": "https://localhost:8080/",
          "height": 87
        },
        "outputId": "5ddbd07c-e04c-4f7d-cc85-85755991f27b"
      },
      "execution_count": null,
      "outputs": [
        {
          "output_type": "execute_result",
          "data": {
            "text/plain": [
              "'Encapsulation is a way of binding together the data and the code that operates on the data. It is a mechanism use to hide the data implementation details while exposing the data abstraction to the outside world. The process of hiding information behind a well-defined interface is known as encapsualtion. Encapsulation offers several advantages in software development: Data hiding ensures that the internal state of an object is shielding from external manipulation, preventing data corruption and ensuring data integrity.'"
            ],
            "application/vnd.google.colaboratory.intrinsic+json": {
              "type": "string"
            }
          },
          "metadata": {},
          "execution_count": 17
        }
      ]
    },
    {
      "cell_type": "code",
      "source": [
        "#20. Create a python class called 'Customer' with private attributes for customer details like name, address, and contact information. Implement encapsulation to ensure data integrity and security.\n",
        "\n",
        "class Customer:\n",
        "    def __init__(self, name, address, contact):\n",
        "        self.__name = name\n",
        "        self.__address = address\n",
        "        self.__contact = contact\n",
        "\n",
        "    def get_name(self):\n",
        "        return self.__name\n",
        "\n",
        "    def get_address(self):\n",
        "        return self.__address\n",
        "\n",
        "    def get_contact(self):\n",
        "        return self.__contact\n",
        "\n",
        "    def set_name(self, name):\n",
        "        self.__name = name\n",
        "\n",
        "    def set_address(self, address):\n",
        "        self.__address = address\n",
        "\n",
        "    def set_contact(self, contact):\n",
        "        self.__contact = contact"
      ],
      "metadata": {
        "id": "4cNc6WSRXWDq"
      },
      "execution_count": 11,
      "outputs": []
    },
    {
      "cell_type": "code",
      "source": [
        "#Polymorphism:\n",
        "#1. What is polymorphism in python? Explain how it is related to object-oriented programming.\n",
        "\n",
        "'''In python, polymorphism refer to the occurence oof something in multiple forms. AS part of polymorphism, a python child class has methods with the same name as a parent class method. This is an essential part of programming. A single type of entity is used to represent a variety of types in different contexts.'''"
      ],
      "metadata": {
        "id": "vZRhqWnMX4W1",
        "colab": {
          "base_uri": "https://localhost:8080/",
          "height": 53
        },
        "outputId": "79b44dce-043a-4ca1-e452-cf85100e9581"
      },
      "execution_count": null,
      "outputs": [
        {
          "output_type": "execute_result",
          "data": {
            "text/plain": [
              "'In python, polymorphism refer to the occurence oof something in multiple forms. AS part of polymorphism, a python child class has methods with the same name as a parent class method. This is an essential part of programming. A single type of entity is used to represent a variety of types in different contexts.'"
            ],
            "application/vnd.google.colaboratory.intrinsic+json": {
              "type": "string"
            }
          },
          "metadata": {},
          "execution_count": 18
        }
      ]
    },
    {
      "cell_type": "code",
      "source": [
        "#2. Describe the difference between compile-time polymorphism and runtime polymorphism in python.\n",
        "\n",
        "'''Method overloading is a compile time polymorphism in which many methods share the same name but have distinct arguements, signatures, and return types. Method overriding ia a runtime polymorphism in which the same method with the same arguments or singnature is associated with several classes.'''"
      ],
      "metadata": {
        "id": "d_mLAf0CYPEt",
        "colab": {
          "base_uri": "https://localhost:8080/",
          "height": 53
        },
        "outputId": "cc9d8e6f-c6d6-40a8-e9d6-288294809862"
      },
      "execution_count": null,
      "outputs": [
        {
          "output_type": "execute_result",
          "data": {
            "text/plain": [
              "'Method overloading is a compile time polymorphism in which many methods share the same name but have distinct arguements, signatures, and return types. Method overriding ia a runtime polymorphism in which the same method with the same arguments or singnature is associated with several classes.'"
            ],
            "application/vnd.google.colaboratory.intrinsic+json": {
              "type": "string"
            }
          },
          "metadata": {},
          "execution_count": 19
        }
      ]
    },
    {
      "cell_type": "code",
      "source": [
        "#3. Create a python class hierarchy for shapes(e.g., circle, square, triangle) and demonstrate polymorphism through a common method, such as 'calculate_area'.\n",
        "\n",
        "class Shape:\n",
        "    def calculate_area(self):\n",
        "        pass\n",
        "\n",
        "class Circle(Shape):\n",
        "    def calculate_area(self):\n",
        "        pass\n",
        "\n",
        "class Square(Shape):\n",
        "    def calculate_area(self):\n",
        "        pass\n",
        "\n",
        "class Triangle(Shape):\n",
        "    def calculate_area(self):\n",
        "        pass\n",
        "circle = Circle()\n",
        "circle.calculate_area()\n",
        "\n",
        "square = Square()\n",
        "square.calculate_area()\n",
        "\n",
        "triangle = Triangle()\n",
        "triangle.calculate_area()"
      ],
      "metadata": {
        "id": "gjgYxMb7Ynk3"
      },
      "execution_count": 12,
      "outputs": []
    },
    {
      "cell_type": "code",
      "source": [
        "#4. Explain the concept of method overriding in polymorphism. Provide an example.\n",
        "\n",
        "'''Method overloading in python is a type of compile-time polymorphism using which we can define two or more methods in the same class with the same name but with a different parameter list. We cannot perform method overloading in the python programming languague as everything is considered an object in python.\n",
        "   from math import pi\n",
        "   class Shape:\n",
        "    def __init__(self, name):\n",
        "      self.name = name\n",
        "    def area(self):\n",
        "      return \"I am a two dimensional shape.\"\n",
        "    def __str__(self):\n",
        "      return self.name\n",
        "   class Square(Shape):\n",
        "    def __init__(self, length):\n",
        "      super().__init__(\"Square\")\n",
        "      self.length = length\n",
        "    def area(self):\n",
        "      return self.length**2\n",
        "    def fact(self):\n",
        "      return \"Squares have each angle equal to 90 degrees.\"\n",
        "   class Circle:\n",
        "    def __init__(self, radius):\n",
        "      super().__init__(\"Circle\")\n",
        "      self.radius = radius\n",
        "    def area(self):\n",
        "      return pi*self.radius**2\n",
        "  a = Square(4)\n",
        "  b = (7)\n",
        "  print(b)\n",
        "  print(b.fact())\n",
        "  print(a.fact())\n",
        "  print(b.area())'''"
      ],
      "metadata": {
        "id": "IgI4qf_AZJke",
        "colab": {
          "base_uri": "https://localhost:8080/",
          "height": 140
        },
        "outputId": "ce75b3e0-1f0f-4a4d-c6d1-80e2029a4f8f"
      },
      "execution_count": null,
      "outputs": [
        {
          "output_type": "execute_result",
          "data": {
            "text/plain": [
              "'Method overloading in python is a type of compile-time polymorphism using which we can define two or more methods in the same class with the same name but with a different parameter list. We cannot perform method overloading in the python programming languague as everything is considered an object in python.\\n   from math import pi\\n   class Shape:\\n    def __init__(self, name):\\n      self.name = name\\n    def area(self):\\n      return \"I am a two dimensional shape.\"\\n    def __str__(self):\\n      return self.name\\n   class Square(Shape):\\n    def __init__(self, length):\\n      super().__init__(\"Square\")\\n      self.length = length\\n    def area(self):\\n      return self.length**2\\n    def fact(self):\\n      return \"Squares have each angle equal to 90 degrees.\"\\n   class Circle:\\n    def __init__(self, radius):\\n      super().__init__(\"Circle\")\\n      self.radius = radius\\n    def area(self):\\n      return pi*self.radius**2\\n  a = Square(4)\\n  b = (7)\\n  print(b)\\n  print(b.fact())\\n  print(a.fact())\\n  print(b.area())'"
            ],
            "application/vnd.google.colaboratory.intrinsic+json": {
              "type": "string"
            }
          },
          "metadata": {},
          "execution_count": 21
        }
      ]
    },
    {
      "cell_type": "code",
      "source": [
        "#5. How is polymorphism different from method overloading in python? Provide examples for both.\n",
        "\n",
        "'''Polymorphism is the process to define more than one body for functions/methods with same name. Overloading is a type of polymorphism, where the signature part must be different. Overriding is another, that is used in case  of inheritance where signature part is also same.\n",
        "  Example:\n",
        "  a = 10\n",
        "  b = 20\n",
        "  print(\"Addition of 2 numbers: \", a + b)\n",
        "  str1 = \"Hello\"\n",
        "  str2 = \"Python\"\n",
        "  print(\"Concatenation of 2 strings: \", str1 + str2)\n",
        "  list1 = [1, 2, 3]\n",
        "  list2 = [\"A\", \"B\"]\n",
        "  print(\"Concatenation of 2 lists: \" list1 + list2)'''"
      ],
      "metadata": {
        "id": "TFkniInMZaiw",
        "colab": {
          "base_uri": "https://localhost:8080/",
          "height": 87
        },
        "outputId": "8a2775e5-cf68-4949-df83-463fcf8f5762"
      },
      "execution_count": null,
      "outputs": [
        {
          "output_type": "execute_result",
          "data": {
            "text/plain": [
              "'Polymorphism is the process to define more than one body for functions/methods with same name. Overloading is a type of polymorphism, where the signature part must be different. Overriding is another, that is used in case  of inheritance where signature part is also same.\\n  Example:\\n  a = 10\\n  b = 20\\n  print(\"Addition of 2 numbers: \", a + b)\\n  str1 = \"Hello\"\\n  str2 = \"Python\"\\n  print(\"Concatenation of 2 strings: \", str1 + str2)\\n  list1 = [1, 2, 3]\\n  list2 = [\"A\", \"B\"]\\n  print(\"Concatenation of 2 lists: \" list1 + list2)'"
            ],
            "application/vnd.google.colaboratory.intrinsic+json": {
              "type": "string"
            }
          },
          "metadata": {},
          "execution_count": 3
        }
      ]
    },
    {
      "cell_type": "code",
      "source": [
        "#6. Create a python class called 'Animal' with a method 'speak()'. Then, create child classes like 'Dog', 'Cat', and 'Bird', each with their own 'speak()' method. Demostrate polymorphism by calling the 'speak()' method on objects of different subclasses.\n",
        "\n",
        "class Animal:\n",
        "    def speak(self):\n",
        "        pass\n",
        "\n",
        "class Dog(Animal):\n",
        "    def speak(self):\n",
        "        print(\"Woof!\")\n",
        "\n",
        "class Cat(Animal):\n",
        "    def speak(self):\n",
        "        print(\"Meow!\")\n",
        "\n",
        "class Bird(Animal):\n",
        "    def speak(self):\n",
        "        print(\"Chirp!\")\n",
        "\n",
        "animals = [Dog(), Cat(), Bird()]\n",
        "\n",
        "for animal in animals:\n",
        "    animal.speak()"
      ],
      "metadata": {
        "id": "qTw601-xZ-9Q",
        "colab": {
          "base_uri": "https://localhost:8080/"
        },
        "outputId": "b60b14e6-6df4-4f49-fa3b-0e12e2349796"
      },
      "execution_count": 13,
      "outputs": [
        {
          "output_type": "stream",
          "name": "stdout",
          "text": [
            "Woof!\n",
            "Meow!\n",
            "Chirp!\n"
          ]
        }
      ]
    },
    {
      "cell_type": "code",
      "source": [
        "#7. Discuss the use of abstract methods and classes in achieving polymorphism in python. Provide an example using the 'abc' module.\n",
        "\n",
        "'''Polymorphism is the ability of an object to take on many forms. With abstract classes, polymorphism is achieved through the implementation of the abstract methods in the subclasses. Each subclass can provide a different implementation, allowing for a variety of behaviors.\n",
        "   Example:\n",
        "   from abc import ABC, abstractmethod\n",
        "   class AbstractAnimal(ABC):\n",
        "    @abstractmethod\n",
        "    def make_sound(self):\n",
        "      pass\n",
        "   class Dog(AbstractAnimal):\n",
        "    def make_sound(self):\n",
        "      return 'Woof!'\n",
        "   class Cat(AbstractAnimal):\n",
        "    def make_sound(self):\n",
        "      return 'Meow!'\n",
        "   dog = Dog()\n",
        "   cat = Cat()\n",
        "   print(dog.make_sound())\n",
        "   print(cat.make_sound())'''"
      ],
      "metadata": {
        "id": "7UCIV0OfbBiK",
        "colab": {
          "base_uri": "https://localhost:8080/",
          "height": 105
        },
        "outputId": "c5600d2f-e27e-4173-c2b2-25e24237d2ff"
      },
      "execution_count": null,
      "outputs": [
        {
          "output_type": "execute_result",
          "data": {
            "text/plain": [
              "\"Polymorphism is the ability of an object to take on many forms. With abstract classes, polymorphism is achieved through the implementation of the abstract methods in the subclasses. Each subclass can provide a different implementation, allowing for a variety of behaviors.\\n   Example:\\n   from abc import ABC, abstractmethod\\n   class AbstractAnimal(ABC):\\n    @abstractmethod\\n    def make_sound(self):\\n      pass\\n   class Dog(AbstractAnimal):\\n    def make_sound(self):\\n      return 'Woof!'\\n   class Cat(AbstractAnimal):\\n    def make_sound(self):\\n      return 'Meow!'\\n   dog = Dog()\\n   cat = Cat()\\n   print(dog.make_sound())\\n   print(cat.make_sound())\""
            ],
            "application/vnd.google.colaboratory.intrinsic+json": {
              "type": "string"
            }
          },
          "metadata": {},
          "execution_count": 4
        }
      ]
    },
    {
      "cell_type": "code",
      "source": [
        "#8. Create a python class hierarchy for a vehicle system(e.g., car, bicycle, boat) and implement a polymorphic 'start()' method that prints a message specific to each vehicle type.\n",
        "\n",
        "class Vehicle:\n",
        "    def start(self):\n",
        "        pass\n",
        "\n",
        "class Car(Vehicle):\n",
        "    def start(self):\n",
        "        print(\"Starting the car...\")\n",
        "\n",
        "class Bicycle(Vehicle):\n",
        "    def start(self):\n",
        "        print(\"Pedaling the bicycle...\")\n",
        "\n",
        "class Boat(Vehicle):\n",
        "    def start(self):\n",
        "        print(\"Starting the boat engine...\")"
      ],
      "metadata": {
        "id": "FuVU7IWFbbbl"
      },
      "execution_count": 14,
      "outputs": []
    },
    {
      "cell_type": "code",
      "source": [
        "#9. Explain the significance of the 'isinstance()' and 'issubclass()' functions in python polymorphism.\n",
        "\n",
        "'''The function isinstance() checks wheather the object that is passed in its parameters is the subclass of the classinfo mentioned within the parameters. On the other hand, the python issubclass() functiononly checks whether a class is a subclass of a supposed parent class.'''"
      ],
      "metadata": {
        "id": "XB3a7YxVcBI8",
        "colab": {
          "base_uri": "https://localhost:8080/",
          "height": 53
        },
        "outputId": "0cbbaec8-07ff-4ba0-950d-96f56139e05c"
      },
      "execution_count": null,
      "outputs": [
        {
          "output_type": "execute_result",
          "data": {
            "text/plain": [
              "'The function isinstance() checks wheather the object that is passed in its parameters is the subclass of the classinfo mentioned within the parameters. On the other hand, the python issubclass() functiononly checks whether a class is a subclass of a supposed parent class.'"
            ],
            "application/vnd.google.colaboratory.intrinsic+json": {
              "type": "string"
            }
          },
          "metadata": {},
          "execution_count": 5
        }
      ]
    },
    {
      "cell_type": "code",
      "source": [
        "#10. What is the role of the '@abstractmethod' decorator in achieving polymorphism in python? Provide an example.\n",
        "\n",
        "'''With abstract classes, polymorphism is achieved through the implementation of the abstract methods in the subclasses. Each subclass can provide a different implementation, allowing for a variety of behaviours.\n",
        "  Example:\n",
        "  from abc import ABC, abstractmethod\n",
        "  class AbstractAnimal(ABC):\n",
        "    @abstractmethod\n",
        "    def make_sound(self):\n",
        "       pass\n",
        "  class Dog(AbstractAnimal):\n",
        "    def make_sound(self):\n",
        "      return 'Woof!'\n",
        "  class Cat(AbstractAnimal):\n",
        "    def make_sound(self):\n",
        "      return 'Meow!'\n",
        "  dog = Dog()\n",
        "  cat = Cat()\n",
        "  print(dog.make_sound())\n",
        "  print(cat.make_sound())'''"
      ],
      "metadata": {
        "id": "XrnntMU9ctDC",
        "colab": {
          "base_uri": "https://localhost:8080/",
          "height": 87
        },
        "outputId": "12f4be78-dfc6-4e82-ec07-a413ebfc3065"
      },
      "execution_count": null,
      "outputs": [
        {
          "output_type": "execute_result",
          "data": {
            "text/plain": [
              "\"With abstract classes, polymorphism is achieved through the implementation of the abstract methods in the subclasses. Each subclass can provide a different implementation, allowing for a variety of behaviours.\\n  Example:\\n  from abc import ABC, abstractmethod\\n  class AbstractAnimal(ABC):\\n    @abstractmethod\\n    def make_sound(self):\\n       pass\\n  class Dog(AbstractAnimal):\\n    def make_sound(self):\\n      return 'Woof!'\\n  class Cat(AbstractAnimal):\\n    def make_sound(self):\\n      return 'Meow!'\\n  dog = Dog()\\n  cat = Cat()\\n  print(dog.make_sound())\\n  print(cat.make_sound())\""
            ],
            "application/vnd.google.colaboratory.intrinsic+json": {
              "type": "string"
            }
          },
          "metadata": {},
          "execution_count": 6
        }
      ]
    },
    {
      "cell_type": "code",
      "source": [
        "#11. Create a python class called 'Shape' with a polymorphic method 'area()' that calculates the area of different shapes(e.g., circle, rectangle, triangle).\n",
        "\n",
        "class Shape:\n",
        "    def area(self):\n",
        "        pass\n",
        "class Circle(Shape):\n",
        "    def __init__(self, radius):\n",
        "        self.radius = radius\n",
        "\n",
        "    def area(self):\n",
        "        return 3.14 * self.radius * self.radius\n",
        "\n",
        "\n",
        "class Rectangle(Shape):\n",
        "    def __init__(self, length, width):\n",
        "        self.length = length\n",
        "        self.width = width\n",
        "\n",
        "    def area(self):\n",
        "        return self.length * self.width\n",
        "\n",
        "\n",
        "class Triangle(Shape):\n",
        "    def __init__(self, base, height):\n",
        "        self.base = base\n",
        "        self.height = height\n",
        "\n",
        "    def area(self):\n",
        "        return 0.5 * self.base * self.height"
      ],
      "metadata": {
        "id": "WzoPwXpVdCBp"
      },
      "execution_count": 15,
      "outputs": []
    },
    {
      "cell_type": "code",
      "source": [
        "#12. Discuss the benefits of polymorphism in terms of code reuseability and flexibility in python programs?\n",
        "\n",
        "'''By enabling programmers to reuse the same code for various data types, polymorphism encourages code reuse. AS a result, less code needs to be written and code maintenance is made simpler over time. Code can be more flexible because of polymorphism, which enables objects and functions to take on different forms.'''"
      ],
      "metadata": {
        "id": "LSs0JYoVdlXD",
        "colab": {
          "base_uri": "https://localhost:8080/",
          "height": 53
        },
        "outputId": "74ec9d4e-a746-4c66-9cfe-162353697ded"
      },
      "execution_count": null,
      "outputs": [
        {
          "output_type": "execute_result",
          "data": {
            "text/plain": [
              "'By enabling programmers to reuse the same code for various data types, polymorphism encourages code reuse. AS a result, less code needs to be written and code maintenance is made simpler over time. Code can be more flexible because of polymorphism, which enables objects and functions to take on different forms.'"
            ],
            "application/vnd.google.colaboratory.intrinsic+json": {
              "type": "string"
            }
          },
          "metadata": {},
          "execution_count": 7
        }
      ]
    },
    {
      "cell_type": "code",
      "source": [
        "#13. Explain the use of the 'super()' function in python polymorphism. How does it help call methods of parent classes?\n",
        "\n",
        "'''While the official documentation is fairly technical, at a high level super() gives you access to methods in a superclass from the subclass that inherits from it. Super() alone returns a temporary object of the superclass that then allows you to call that superclass's methods. The super() function can be used to overrride the methods of a parent class in the child class.'''"
      ],
      "metadata": {
        "id": "9G87u8D1d5MC",
        "colab": {
          "base_uri": "https://localhost:8080/",
          "height": 70
        },
        "outputId": "f68a1e06-7c12-4d22-eda8-b7b0f3dcfd68"
      },
      "execution_count": null,
      "outputs": [
        {
          "output_type": "execute_result",
          "data": {
            "text/plain": [
              "\"While the official documentation is fairly technical, at a high level super() gives you access to methods in a superclass from the subclass that inherits from it. Super() alone returns a temporary object of the superclass that then allows you to call that superclass's methods. The super() function can be used to overrride the methods of a parent class in the child class.\""
            ],
            "application/vnd.google.colaboratory.intrinsic+json": {
              "type": "string"
            }
          },
          "metadata": {},
          "execution_count": 8
        }
      ]
    },
    {
      "cell_type": "code",
      "source": [
        "#14. Create a python class hierarchy for a banking system with various account types(e.g., savings, checking, credit card) and demostrate polymorphism by implementing a common 'withdraw()' method.\n",
        "\n",
        "class Account:\n",
        "    def __init__(self, account_number, balance):\n",
        "        self.account_number = account_number\n",
        "        self.balance = balance\n",
        "\n",
        "    def withdraw(self, amount):\n",
        "        pass\n",
        "\n",
        "class SavingsAccount(Account):\n",
        "    def __init__(self, account_number, balance):\n",
        "        super().__init__(account_number, balance)\n",
        "\n",
        "    def withdraw(self, amount):\n",
        "        pass\n",
        "\n",
        "class CheckingAccount(Account):\n",
        "    def __init__(self, account_number, balance):\n",
        "        super().__init__(account_number, balance)\n",
        "\n",
        "    def withdraw(self, amount):\n",
        "        pass\n",
        "\n",
        "class CreditCardAccount(Account):\n",
        "    def __init__(self, account_number, balance):\n",
        "        super().__init__(account_number, balance)\n",
        "\n",
        "    def withdraw(self, amount):\n",
        "        pass"
      ],
      "metadata": {
        "id": "10QhYTzlecBB"
      },
      "execution_count": 16,
      "outputs": []
    },
    {
      "cell_type": "code",
      "source": [
        "#15. Describe the concept of operator overloading in python and how it relates to polymorphism. Provide examples using operators like '+' and '*,\n",
        "\n",
        "'''Operator Overloading means giving extended meaning beyond their predefined operational meaning. For example operator + is used to add two integers as well as join two strings and merge two lists. It is achievable because \"+\" operator is overloaded by int class and str class.\n",
        "  Example:\n",
        "  print(1 + 2)\n",
        "  print(\"Sanyogita\" + \"Singh\")\n",
        "  print(3 * 4)\n",
        "  print(\"Sanyogita\" * 4)'''"
      ],
      "metadata": {
        "id": "bnOvOXlRfZRA",
        "colab": {
          "base_uri": "https://localhost:8080/",
          "height": 70
        },
        "outputId": "41bc89ce-2bd0-485f-d516-3e7a34f764fa"
      },
      "execution_count": null,
      "outputs": [
        {
          "output_type": "execute_result",
          "data": {
            "text/plain": [
              "'Operator Overloading means giving extended meaning beyond their predefined operational meaning. For example operator + is used to add two integers as well as join two strings and merge two lists. It is achievable because \"+\" operator is overloaded by int class and str class.\\n  Example:\\n  print(1 + 2)\\n  print(\"Sanyogita\" + \"Singh\")\\n  print(3 * 4)\\n  print(\"Sanyogita\" * 4)'"
            ],
            "application/vnd.google.colaboratory.intrinsic+json": {
              "type": "string"
            }
          },
          "metadata": {},
          "execution_count": 9
        }
      ]
    },
    {
      "cell_type": "code",
      "source": [
        "#16. What is dynamic polymorphism, and how is it achieved in python?\n",
        "\n",
        "'''In Python, Polymorphism lets us define methods in the child class that have the same name as the methods in the parent class. In inheritance, the child class inherits the methods from the parent class. WE can achieve dynamic polymorphism by using the method overriding. In this process, an overridden method is called through a reference variable of a superclass.'''"
      ],
      "metadata": {
        "id": "9CWwHCgff4F6",
        "colab": {
          "base_uri": "https://localhost:8080/",
          "height": 70
        },
        "outputId": "29d8bf0d-424c-4140-afa2-75e5e0976d3f"
      },
      "execution_count": null,
      "outputs": [
        {
          "output_type": "execute_result",
          "data": {
            "text/plain": [
              "'In Python, Polymorphism lets us define methods in the child class that have the same name as the methods in the parent class. In inheritance, the child class inherits the methods from the parent class. WE can achieve dynamic polymorphism by using the method overriding. In this process, an overridden method is called through a reference variable of a superclass.'"
            ],
            "application/vnd.google.colaboratory.intrinsic+json": {
              "type": "string"
            }
          },
          "metadata": {},
          "execution_count": 10
        }
      ]
    },
    {
      "cell_type": "code",
      "source": [
        "#17. Create a python class hierarchy for employees in a company(e.g., manager, developer, designer) and implement polymorphism through a common 'calculate_salary()' method.\n",
        "\n",
        "class Employee:\n",
        "    def calculate_salary(self):\n",
        "        pass\n",
        "\n",
        "class Manager(Employee):\n",
        "    def calculate_salary(self):\n",
        "        pass\n",
        "\n",
        "class Developer(Employee):\n",
        "    def calculate_salary(self):\n",
        "        pass\n",
        "\n",
        "class Designer(Employee):\n",
        "    def calculate_salary(self):\n",
        "        pass"
      ],
      "metadata": {
        "id": "MPzcoRMwgI4P"
      },
      "execution_count": 17,
      "outputs": []
    },
    {
      "cell_type": "code",
      "source": [
        "#18. Discuss the concept of function pointers and how they can be used to achieve polymorphism.\n",
        "\n",
        "'''Pointers can be thought of as names - that is, entries in Python's namespace - That correspond to objects in Python's memeory. In the example, the pointer is my_string, and the object in memory is the string with value \"Hello! World!\" In scenarios where you have multiple functions with similar interfaces but different implementations(polymorphism), you c use function pointers to switch between these functions at runtime.'''"
      ],
      "metadata": {
        "id": "wP06deoFgqQt",
        "colab": {
          "base_uri": "https://localhost:8080/",
          "height": 70
        },
        "outputId": "05c49c49-fcdb-438b-c14c-fcec47a748e4"
      },
      "execution_count": null,
      "outputs": [
        {
          "output_type": "execute_result",
          "data": {
            "text/plain": [
              "'Pointers can be thought of as names - that is, entries in Python\\'s namespace - That correspond to objects in Python\\'s memeory. In the example, the pointer is my_string, and the object in memory is the string with value \"Hello! World!\" In scenarios where you have multiple functions with similar interfaces but different implementations(polymorphism), you c use function pointers to switch between these functions at runtime.'"
            ],
            "application/vnd.google.colaboratory.intrinsic+json": {
              "type": "string"
            }
          },
          "metadata": {},
          "execution_count": 13
        }
      ]
    },
    {
      "cell_type": "code",
      "source": [
        "#19. Explain the role of interfaces and abstract classes in polymorphism, drawing comparisons between them.\n",
        "\n",
        "'''Interfaces: Interface contains only abstract methods. Only final and static variables ar used. The interface can be declared with the interface keyword. It does not support multiple inheritance. The keyword implement is used to implement the interface.\n",
        "   Abstract Class: An abstract class can contain both abstract and non-abstract methods. An abstract class can have all four; static , non-static and final, non-final variables. To declare abstract class abstract keywords are used. It supports multiple inheritance. The keyword 'extend' is used to extend an abstract class.'''"
      ],
      "metadata": {
        "id": "2nL2dQKNhB-V",
        "colab": {
          "base_uri": "https://localhost:8080/",
          "height": 87
        },
        "outputId": "e6a3a04e-e651-4a48-ac43-b16665352732"
      },
      "execution_count": null,
      "outputs": [
        {
          "output_type": "execute_result",
          "data": {
            "text/plain": [
              "\"Interfaces: Interface contains only abstract methods. Only final and static variables ar used. The interface can be declared with the interface keyword. It does not support multiple inheritance. The keyword implement is used to implement the interface.\\n   Abstract Class: An abstract class can contain both abstract and non-abstract methods. An abstract class can have all four; static , non-static and final, non-final variables. To declare abstract class abstract keywords are used. It supports multiple inheritance. The keyword 'extend' is used to extend an abstract class.\""
            ],
            "application/vnd.google.colaboratory.intrinsic+json": {
              "type": "string"
            }
          },
          "metadata": {},
          "execution_count": 14
        }
      ]
    },
    {
      "cell_type": "code",
      "source": [
        "#20. Create a python class for a zoo simulation, demonstrating polymorphism with different animal types(e.g., mammals, birds, reptiles) and their behaviour(e.g., eating, sleeping, making sounds)\n",
        "\n",
        "class Animal:\n",
        "    def __init__(self, name):\n",
        "        self.name = name\n",
        "\n",
        "    def eat(self):\n",
        "        pass\n",
        "\n",
        "    def sleep(self):\n",
        "        pass\n",
        "\n",
        "    def make_sound(self):\n",
        "        pass\n",
        "\n",
        "\n",
        "class Mammal(Animal):\n",
        "    def eat(self):\n",
        "        print(f\"{self.name} is eating.\")\n",
        "\n",
        "    def sleep(self):\n",
        "        print(f\"{self.name} is sleeping.\")\n",
        "\n",
        "    def make_sound(self):\n",
        "        print(f\"{self.name} is making a sound.\")\n",
        "\n",
        "\n",
        "class Bird(Animal):\n",
        "    def eat(self):\n",
        "        print(f\"{self.name} is pecking at food.\")\n",
        "\n",
        "    def sleep(self):\n",
        "        print(f\"{self.name} is perched and sleeping.\")\n",
        "\n",
        "    def make_sound(self):\n",
        "        print(f\"{self.name} is chirping.\")\n",
        "\n",
        "\n",
        "class Reptile(Animal):\n",
        "    def eat(self):\n",
        "        print(f\"{self.name} is devouring its prey.\")\n",
        "\n",
        "    def sleep(self):\n",
        "        print(f\"{self.name} is basking in the sun.\")\n",
        "\n",
        "    def make_sound(self):\n",
        "        print(f\"{self.name} is hissing.\")\n",
        "lion = Mammal(\"Lion\")\n",
        "lion.eat()\n",
        "lion.sleep()\n",
        "lion.make_sound()\n",
        "\n",
        "parrot = Bird(\"Parrot\")\n",
        "parrot.eat()\n",
        "parrot.sleep()\n",
        "parrot.make_sound()\n",
        "\n",
        "snake = Reptile(\"Snake\")\n",
        "snake.eat()\n",
        "snake.sleep()\n",
        "snake.make_sound()"
      ],
      "metadata": {
        "id": "Nm06SdDMhXg8",
        "colab": {
          "base_uri": "https://localhost:8080/"
        },
        "outputId": "dcf6d7f6-8520-4c27-8d32-9ace28067a0b"
      },
      "execution_count": 18,
      "outputs": [
        {
          "output_type": "stream",
          "name": "stdout",
          "text": [
            "Lion is eating.\n",
            "Lion is sleeping.\n",
            "Lion is making a sound.\n",
            "Parrot is pecking at food.\n",
            "Parrot is perched and sleeping.\n",
            "Parrot is chirping.\n",
            "Snake is devouring its prey.\n",
            "Snake is basking in the sun.\n",
            "Snake is hissing.\n"
          ]
        }
      ]
    },
    {
      "cell_type": "code",
      "source": [
        "#Abstraction:\n",
        "#1. What is abstraction in python, how does it relate to object-oriented programming?\n",
        "\n",
        "'''Abstraction in python is defined as a process of handling complexity by hiding unnecessary information  from the user. This is one of the core concepts of object-oriented programming(OOP) languages.'''"
      ],
      "metadata": {
        "id": "wivgHPbDh13h",
        "colab": {
          "base_uri": "https://localhost:8080/",
          "height": 53
        },
        "outputId": "9567d23d-3789-4def-9e2d-626e6c7eff54"
      },
      "execution_count": null,
      "outputs": [
        {
          "output_type": "execute_result",
          "data": {
            "text/plain": [
              "'Abstraction in python is defined as a process of handling complexity by hiding unnecessary information  from the user. This is one of the core concepts of object-oriented programming(OOP) languages.'"
            ],
            "application/vnd.google.colaboratory.intrinsic+json": {
              "type": "string"
            }
          },
          "metadata": {},
          "execution_count": 15
        }
      ]
    },
    {
      "cell_type": "code",
      "source": [
        "#2. Describe the benefits of abstraction in terms of code organization and complexity reduction.\n",
        "\n",
        "'''It reduces the complexity of viewing the things. Helps to increase security of an application or program as only important details are provided to the user. Avoids code duplication and inceases reuseabilit. Can change internal implementation of class independently without affecting the user.'''"
      ],
      "metadata": {
        "id": "IRDmQC8yEhSr",
        "colab": {
          "base_uri": "https://localhost:8080/",
          "height": 53
        },
        "outputId": "7ff4b160-9c46-4cfa-c729-8efae9596171"
      },
      "execution_count": null,
      "outputs": [
        {
          "output_type": "execute_result",
          "data": {
            "text/plain": [
              "'It reduces the complexity of viewing the things. Helps to increase security of an application or program as only important details are provided to the user. Avoids code duplication and inceases reuseabilit. Can change internal implementation of class independently without affecting the user.'"
            ],
            "application/vnd.google.colaboratory.intrinsic+json": {
              "type": "string"
            }
          },
          "metadata": {},
          "execution_count": 16
        }
      ]
    },
    {
      "cell_type": "code",
      "source": [
        "#3. Create a python class called 'Shape' with an abstract method 'calculate_area()'. Then, create child classes(e.g.,'Circle', 'Rectangle') that implement the 'calculate_area()' method. Provide an example of using these classes.\n",
        "\n",
        "from abc import ABC, abstractmethod\n",
        "\n",
        "class Shape(ABC):\n",
        "    @abstractmethod\n",
        "    def calculate_area(self):\n",
        "        pass\n",
        "\n",
        "class Circle(Shape):\n",
        "    def __init__(self, radius):\n",
        "        self.radius = radius\n",
        "\n",
        "    def calculate_area(self):\n",
        "        return 3.14 * self.radius ** 2\n",
        "\n",
        "class Rectangle(Shape):\n",
        "    def __init__(self, length, width):\n",
        "        self.length = length\n",
        "        self.width = width\n",
        "\n",
        "    def calculate_area(self):\n",
        "        return self.length * self.width\n",
        "\n",
        "circle = Circle(5)\n",
        "circle_area = circle.calculate_area()\n",
        "print(f\"The area of the circle is: {circle_area}\")\n",
        "\n",
        "rectangle = Rectangle(4, 6)\n",
        "rectangle_area = rectangle.calculate_area()\n",
        "print(f\"The area of the rectangle is: {rectangle_area}\")"
      ],
      "metadata": {
        "id": "XUhC1ThlEySd",
        "colab": {
          "base_uri": "https://localhost:8080/"
        },
        "outputId": "4e3c5da1-0b75-40ac-e748-43e170ca95b6"
      },
      "execution_count": 19,
      "outputs": [
        {
          "output_type": "stream",
          "name": "stdout",
          "text": [
            "The area of the circle is: 78.5\n",
            "The area of the rectangle is: 24\n"
          ]
        }
      ]
    },
    {
      "cell_type": "code",
      "source": [
        "#4. Explain the concept of abstract classes in python and how they are defined using the 'abc' module. Provide an example.\n",
        "\n",
        "'''In python, you can create an abstract class using the abc module. This module provides the infrastructure for defining abstract base classes(ABCs).\n",
        "from abc import ABC, abstractmethod\n",
        "class AbstractClassExample(ABC):\n",
        "  @abstractmethod\n",
        "  def do_something(self):\n",
        "    pass'''"
      ],
      "metadata": {
        "id": "jEbVRJC1FY-d",
        "colab": {
          "base_uri": "https://localhost:8080/",
          "height": 53
        },
        "outputId": "faab9fc2-7db6-40df-cef1-3e14638965e0"
      },
      "execution_count": null,
      "outputs": [
        {
          "output_type": "execute_result",
          "data": {
            "text/plain": [
              "'In python, you can create an abstract class using the abc module. This module provides the infrastructure for defining abstract base classes(ABCs).\\nfrom abc import ABC, abstractmethod\\nclass AbstractClassExample(ABC):\\n  @abstractmethod\\n  def do_something(self):\\n    pass'"
            ],
            "application/vnd.google.colaboratory.intrinsic+json": {
              "type": "string"
            }
          },
          "metadata": {},
          "execution_count": 17
        }
      ]
    },
    {
      "cell_type": "code",
      "source": [
        "#5. How do abstract classes differ from regular classes in python? Discuss their use cases.\n",
        "\n",
        "'''Concrete classes contain only concrete(normal) methods whereas abstract classes may contain both concrete methods and abstract methods. Abstract classes are not complete, as they may have some methods that are not defined. So we cannot create an instance or object of an abstract class in Python. If we try to instantiate the abstract class, It raises ab error.'''"
      ],
      "metadata": {
        "id": "RZuKKzMQFs6s",
        "colab": {
          "base_uri": "https://localhost:8080/",
          "height": 70
        },
        "outputId": "a5824829-02f5-4bcc-b992-f80f330c1c77"
      },
      "execution_count": null,
      "outputs": [
        {
          "output_type": "execute_result",
          "data": {
            "text/plain": [
              "'Concrete classes contain only concrete(normal) methods whereas abstract classes may contain both concrete methods and abstract methods. Abstract classes are not complete, as they may have some methods that are not defined. So we cannot create an instance or object of an abstract class in Python. If we try to instantiate the abstract class, It raises ab error.'"
            ],
            "application/vnd.google.colaboratory.intrinsic+json": {
              "type": "string"
            }
          },
          "metadata": {},
          "execution_count": 1
        }
      ]
    },
    {
      "cell_type": "code",
      "source": [
        "#6. Create a python class for a bank account and demonstrate abstraction by hiding the account balance and providing methods to deposit and withdraw funds.\n",
        "\n",
        "class BankAccount:\n",
        "    def __init__(self):\n",
        "        self.__balance = 0\n",
        "\n",
        "    def deposit(self, amount):\n",
        "        self.__balance += amount\n",
        "\n",
        "    def withdraw(self, amount):\n",
        "        if self.__balance >= amount:\n",
        "            self.__balance -= amount\n",
        "        else:\n",
        "            print(\"Insufficient funds\")\n",
        "\n",
        "    def get_balance(self):\n",
        "        return self.__balance\n",
        "\n",
        "account = BankAccount()\n",
        "\n",
        "account.deposit(1000)\n",
        "\n",
        "account.withdraw(500)\n",
        "\n",
        "balance = account.get_balance()\n",
        "print(\"Account balance:\", balance)\n"
      ],
      "metadata": {
        "id": "NGPOs_eWF6Uc",
        "colab": {
          "base_uri": "https://localhost:8080/"
        },
        "outputId": "def84140-df69-4fa9-96cf-3fbff769421f"
      },
      "execution_count": 20,
      "outputs": [
        {
          "output_type": "stream",
          "name": "stdout",
          "text": [
            "Account balance: 500\n"
          ]
        }
      ]
    },
    {
      "cell_type": "code",
      "source": [
        "#7. Discuss the concept of interface classes in python and their role in achieving abstraction.\n",
        "\n",
        "'''An interface acts as a template for designing classes. Interfaces also define methods the same as classes, but abstract methods, whereas class contains nonabstract methods. Abstract methods aer those methods without implementation or which are without the body. The interface in object-oriented languages like python is a set of methods signatures that the implementing classes is expected to provide. Writing ordered code and achieving abstractionare both possible through interface implementation. Example: Python \"object interfaces\" are implemented in the module zope. interface.'''"
      ],
      "metadata": {
        "id": "gZK520ofGTjw",
        "colab": {
          "base_uri": "https://localhost:8080/",
          "height": 87
        },
        "outputId": "be35a003-62a8-4a64-81e2-40acb8ff43bf"
      },
      "execution_count": null,
      "outputs": [
        {
          "output_type": "execute_result",
          "data": {
            "text/plain": [
              "'An interface acts as a template for designing classes. Interfaces also define methods the same as classes, but abstract methods, whereas class contains nonabstract methods. Abstract methods aer those methods without implementation or which are without the body. The interface in object-oriented languages like python is a set of methods signatures that the implementing classes is expected to provide. Writing ordered code and achieving abstractionare both possible through interface implementation. Example: Python \"object interfaces\" are implemented in the module zope. interface.'"
            ],
            "application/vnd.google.colaboratory.intrinsic+json": {
              "type": "string"
            }
          },
          "metadata": {},
          "execution_count": 3
        }
      ]
    },
    {
      "cell_type": "code",
      "source": [
        "#8. Create a python class hierarchy for animals and implement abstraction by defining common methods(e.g.,'eat()','sleep()') in an abstract base class.\n",
        "\n",
        "from abc import ABC, abstractmethod\n",
        "\n",
        "class Animal(ABC):\n",
        "    @abstractmethod\n",
        "    def eat(self):\n",
        "        pass\n",
        "\n",
        "    @abstractmethod\n",
        "    def sleep(self):\n",
        "        pass\n",
        "\n",
        "class Mammal(Animal):\n",
        "    def eat(self):\n",
        "        print(\"Mammal is eating.\")\n",
        "\n",
        "    def sleep(self):\n",
        "        print(\"Mammal is sleeping.\")\n",
        "\n",
        "class Bird(Animal):\n",
        "    def eat(self):\n",
        "        print(\"Bird is eating.\")\n",
        "\n",
        "    def sleep(self):\n",
        "        print(\"Bird is sleeping.\")\n",
        "\n",
        "class Dog(Mammal):\n",
        "    def eat(self):\n",
        "        print(\"Dog is eating.\")\n",
        "\n",
        "    def sleep(self):\n",
        "        print(\"Dog is sleeping.\")\n",
        "\n",
        "class Cat(Mammal):\n",
        "    def eat(self):\n",
        "        print(\"Cat is eating.\")\n",
        "\n",
        "    def sleep(self):\n",
        "        print(\"Cat is sleeping.\")\n",
        "\n",
        "class Parrot(Bird):\n",
        "    def eat(self):\n",
        "        print(\"Parrot is eating.\")\n",
        "\n",
        "    def sleep(self):\n",
        "        print(\"Parrot is sleeping.\")"
      ],
      "metadata": {
        "id": "Y3kzv5MeGmP6"
      },
      "execution_count": 21,
      "outputs": []
    },
    {
      "cell_type": "code",
      "source": [
        "#9. Explain the significance of encapsulation in achieving abstraction. Provide examples.\n",
        "\n",
        "'''Abstarction is a way of representing some specific data. Encapsulation is a way of hiding the complexity of something and exposing only the parts you wish to expose. For example: if you have a class that has one or more private fields that you use to store the data, then you are in encapsulation.'''"
      ],
      "metadata": {
        "id": "UPEYuZUzHFE7",
        "colab": {
          "base_uri": "https://localhost:8080/",
          "height": 53
        },
        "outputId": "5d431bb0-847e-4320-9920-6a0e3329ae8a"
      },
      "execution_count": null,
      "outputs": [
        {
          "output_type": "execute_result",
          "data": {
            "text/plain": [
              "'Abstarction is a way of representing some specific data. Encapsulation is a way of hiding the complexity of something and exposing only the parts you wish to expose. For example: if you have a class that has one or more private fields that you use to store the data, then you are in encapsulation.'"
            ],
            "application/vnd.google.colaboratory.intrinsic+json": {
              "type": "string"
            }
          },
          "metadata": {},
          "execution_count": 4
        }
      ]
    },
    {
      "cell_type": "code",
      "source": [
        "#10. What is the purpose of abstract methods, and how do they enforce abstraction in python classes?\n",
        "\n",
        "'''Abstract methods force th echild classes to give the implementation of these methods in them and thus help us achieve abstraction as each subclass can give its own implementation. A class containing one or more than one abstract method is called an abstract class. The purpose of an abstract class is toprovide a common definition of a base class  that multiple derived classes can share.'''"
      ],
      "metadata": {
        "id": "uvwLyryyHaui",
        "colab": {
          "base_uri": "https://localhost:8080/",
          "height": 70
        },
        "outputId": "a28ee72f-e2f5-4b6d-95ec-e73d049684a8"
      },
      "execution_count": null,
      "outputs": [
        {
          "output_type": "execute_result",
          "data": {
            "text/plain": [
              "'Abstract methods force th echild classes to give the implementation of these methods in them and thus help us achieve abstraction as each subclass can give its own implementation. A class containing one or more than one abstract method is called an abstract class. The purpose of an abstract class is toprovide a common definition of a base class  that multiple derived classes can share.'"
            ],
            "application/vnd.google.colaboratory.intrinsic+json": {
              "type": "string"
            }
          },
          "metadata": {},
          "execution_count": 5
        }
      ]
    },
    {
      "cell_type": "code",
      "source": [
        "#11. Create a python class for a vehicle system and demonstrate abstraction by defining common methods (e.g.,'Start','Stop') in an abstract base class.\n",
        "\n",
        "from abc import ABC, abstractmethod\n",
        "\n",
        "class VehicleSystem(ABC):\n",
        "    @abstractmethod\n",
        "    def start(self):\n",
        "        pass\n",
        "\n",
        "    @abstractmethod\n",
        "    def stop(self):\n",
        "        pass\n",
        "\n",
        "class Car(VehicleSystem):\n",
        "    def start(self):\n",
        "        print(\"Car started.\")\n",
        "\n",
        "    def stop(self):\n",
        "        print(\"Car stopped.\")\n",
        "\n",
        "class Motorcycle(VehicleSystem):\n",
        "    def start(self):\n",
        "        print(\"Motorcycle started.\")\n",
        "\n",
        "    def stop(self):\n",
        "        print(\"Motorcycle stopped.\")\n",
        "\n",
        "car = Car()\n",
        "car.start()\n",
        "car.stop()\n",
        "\n",
        "motorcycle = Motorcycle()\n",
        "motorcycle.start()\n",
        "motorcycle.stop()"
      ],
      "metadata": {
        "id": "l2cdTP9UHqjj",
        "colab": {
          "base_uri": "https://localhost:8080/"
        },
        "outputId": "9320cbf7-7af5-44b2-9057-384afd3bd683"
      },
      "execution_count": 22,
      "outputs": [
        {
          "output_type": "stream",
          "name": "stdout",
          "text": [
            "Car started.\n",
            "Car stopped.\n",
            "Motorcycle started.\n",
            "Motorcycle stopped.\n"
          ]
        }
      ]
    },
    {
      "cell_type": "code",
      "source": [
        "#12. Describe the use of abstract properties in python and how they can be employed in abstract classes.\n",
        "\n",
        "'''Properties are pythonic ways of using getters and setters. the abc module has a @abstractproperty decorator to use abstract properties. Just like abstract methods, we need to define abstract properties in implemention classes. Otherwise python willraise the error.\n",
        "   Example:\n",
        "   from abc import ABC, abstractmethod\n",
        "   class Shape(ABC):\n",
        "    def __init__(self, shape_name):\n",
        "      self.shape_name = shape_name\n",
        "\n",
        "    @abstractmethod\n",
        "    def draw(self):\n",
        "      pass'''"
      ],
      "metadata": {
        "id": "h3wQn-qkILi4",
        "colab": {
          "base_uri": "https://localhost:8080/",
          "height": 70
        },
        "outputId": "a6081f0e-6c46-45dc-abb9-02b1dbc865d9"
      },
      "execution_count": null,
      "outputs": [
        {
          "output_type": "execute_result",
          "data": {
            "text/plain": [
              "'Properties are pythonic ways of using getters and setters. the abc module has a @abstractproperty decorator to use abstract properties. Just like abstract methods, we need to define abstract properties in implemention classes. Otherwise python willraise the error.\\n   Example:\\n   from abc import ABC, abstractmethod \\n   class Shape(ABC):\\n    def __init__(self, shape_name):\\n      self.shape_name = shape_name\\n\\n    @abstractmethod\\n    def draw(self):\\n      pass'"
            ],
            "application/vnd.google.colaboratory.intrinsic+json": {
              "type": "string"
            }
          },
          "metadata": {},
          "execution_count": 6
        }
      ]
    },
    {
      "cell_type": "code",
      "source": [
        "#13. Create a python class hierarchy for employees in a company(e.g.,manager, developer, designer) and implement abstraction by defining a common 'get_salary()' method.\n",
        "\n",
        "class Employee:\n",
        "    def get_salary(self):\n",
        "        pass\n",
        "\n",
        "class Manager(Employee):\n",
        "    def get_salary(self):\n",
        "        pass\n",
        "\n",
        "class Developer(Employee):\n",
        "    def get_salary(self):\n",
        "        pass\n",
        "\n",
        "class Designer(Employee):\n",
        "    def get_salary(self):\n",
        "        pass"
      ],
      "metadata": {
        "id": "8GP63LcOIg7i"
      },
      "execution_count": 23,
      "outputs": []
    },
    {
      "cell_type": "code",
      "source": [
        "#14. Discuss the difference between abstract classes and concrete classes in python, including their instantiation.\n",
        "\n",
        "'''Concrete classes contain only concrete(normal) methods whereas abstract classes may contain both concrete methods and abstract methods. the concrete class provides an implementation of abstract methods, the abstract base class can also provide an implementation by invoking the methods via super().'''"
      ],
      "metadata": {
        "id": "1QlnkjEzJCdp",
        "colab": {
          "base_uri": "https://localhost:8080/",
          "height": 53
        },
        "outputId": "ad0b83cc-f903-49af-c831-7c8123b4bdc5"
      },
      "execution_count": null,
      "outputs": [
        {
          "output_type": "execute_result",
          "data": {
            "text/plain": [
              "'Concrete classes contain only concrete(normal) methods whereas abstract classes may contain both concrete methods and abstract methods. the concrete class provides an implementation of abstract methods, the abstract base class can also provide an implementation by invoking the methods via super().'"
            ],
            "application/vnd.google.colaboratory.intrinsic+json": {
              "type": "string"
            }
          },
          "metadata": {},
          "execution_count": 7
        }
      ]
    },
    {
      "cell_type": "code",
      "source": [
        "#15. Explain the concept of abstract data types (ADTs) and their role in achieving abstraction in python.\n",
        "\n",
        "'''An abstract Data type (ADT) is a programming concept that defines a high-level view of a data structure, without specifying the implementation details. In other words, it is blueprint for creating a data structure thta defines the behaviour and interface of the structure, without specifying how it in implemented.'''"
      ],
      "metadata": {
        "id": "NYGCc4GOJbFS",
        "colab": {
          "base_uri": "https://localhost:8080/",
          "height": 53
        },
        "outputId": "2e18e2a7-9929-4f50-f0f5-ce73fa95c191"
      },
      "execution_count": null,
      "outputs": [
        {
          "output_type": "execute_result",
          "data": {
            "text/plain": [
              "'An abstract Data type (ADT) is a programming concept that defines a high-level view of a data structure, without specifying the implementation details. In other words, it is blueprint for creating a data structure thta defines the behaviour and interface of the structure, without specifying how it in implemented.'"
            ],
            "application/vnd.google.colaboratory.intrinsic+json": {
              "type": "string"
            }
          },
          "metadata": {},
          "execution_count": 8
        }
      ]
    },
    {
      "cell_type": "code",
      "source": [
        "#16. Create a python class for a computer system, demonstrating abstraction by defining common methods (e.g.,'power_on'()','shutdown()') in an abstract base class.\n",
        "\n",
        "from abc import ABC, abstractmethod\n",
        "\n",
        "class ComputerSystem(ABC):\n",
        "    @abstractmethod\n",
        "    def power_on(self):\n",
        "        pass\n",
        "\n",
        "    @abstractmethod\n",
        "    def shutdown(self):\n",
        "        pass\n",
        "\n",
        "class Desktop(ComputerSystem):\n",
        "    def power_on(self):\n",
        "        print(\"Desktop is powering on...\")\n",
        "\n",
        "    def shutdown(self):\n",
        "        print(\"Desktop is shutting down...\")\n",
        "\n",
        "class Laptop(ComputerSystem):\n",
        "    def power_on(self):\n",
        "        print(\"Laptop is powering on...\")\n",
        "\n",
        "    def shutdown(self):\n",
        "        print(\"Laptop is shutting down...\")\n",
        "\n",
        "class Server(ComputerSystem):\n",
        "    def power_on(self):\n",
        "        print(\"Server is powering on...\")\n",
        "\n",
        "    def shutdown(self):\n",
        "        print(\"Server is shutting down...\")"
      ],
      "metadata": {
        "id": "RASSZTriJ1Mn"
      },
      "execution_count": 24,
      "outputs": []
    },
    {
      "cell_type": "code",
      "source": [
        "#17. Discuss the benefits of using abstraction in large-scale software development projects.\n",
        "\n",
        "'''Data abstraction may reduce the effort required to make changes and update to the code by isolating the implementation details of a data structure. There is less chance os errors or other problems when making changes to the implementation of the data structure rather than the code that utilises it.It reduces the complexity os viewing the things. Helps to increase security of an application or program as only important details are provided to th euser. Avoids code duplication and increases reuseability.'''"
      ],
      "metadata": {
        "id": "KHNjXjpOKave",
        "colab": {
          "base_uri": "https://localhost:8080/",
          "height": 87
        },
        "outputId": "72ae27b7-7473-42bc-d9ae-81c06accddf7"
      },
      "execution_count": null,
      "outputs": [
        {
          "output_type": "execute_result",
          "data": {
            "text/plain": [
              "'Data abstraction may reduce the effort required to make changes and update to the code by isolating the implementation details of a data structure. There is less chance os errors or other problems when making changes to the implementation of the data structure rather than the code that utilises it.It reduces the complexity os viewing the things. Helps to increase security of an application or program as only important details are provided to th euser. Avoids code duplication and increases reuseability.'"
            ],
            "application/vnd.google.colaboratory.intrinsic+json": {
              "type": "string"
            }
          },
          "metadata": {},
          "execution_count": 9
        }
      ]
    },
    {
      "cell_type": "code",
      "source": [
        "#18. Explain how abstraction enhances code reuseability and modularity in python programs.\n",
        "\n",
        "'''Abstraction focuses on bundling data and methods within an object to improve control and modularity. Abstraction simplifies complex systems by breaking them into, smaller components, improving maintainability, debugging, testing, collaboration, and integration of new features.Modularity is having smaller(more or less independent) problems to tackle, one by one.'''"
      ],
      "metadata": {
        "id": "sdVmS51qKeX1",
        "colab": {
          "base_uri": "https://localhost:8080/",
          "height": 70
        },
        "outputId": "1d7bd58e-a77d-4eaf-c581-244b0d9cf1fa"
      },
      "execution_count": null,
      "outputs": [
        {
          "output_type": "execute_result",
          "data": {
            "text/plain": [
              "'Abstraction focuses on bundling data and methods within an object to improve control and modularity. Abstraction simplifies complex systems by breaking them into, smaller components, improving maintainability, debugging, testing, collaboration, and integration of new features.Modularity is having smaller(more or less independent) problems to tackle, one by one.'"
            ],
            "application/vnd.google.colaboratory.intrinsic+json": {
              "type": "string"
            }
          },
          "metadata": {},
          "execution_count": 10
        }
      ]
    },
    {
      "cell_type": "code",
      "source": [
        "#19. Create a python class for a library system, implementing abstraction by defining common methods(e.g., 'add_book()','borrow_book()') in an abstract base class.\n",
        "\n",
        "from abc import ABC, abstractmethod\n",
        "\n",
        "class LibrarySystem(ABC):\n",
        "    @abstractmethod\n",
        "    def add_book(self, book):\n",
        "        pass\n",
        "\n",
        "    @abstractmethod\n",
        "    def borrow_book(self, book):\n",
        "        pass\n",
        "\n",
        "class MyLibrary(LibrarySystem):\n",
        "    def add_book(self, book):\n",
        "        # Implementation for adding a book to the library\n",
        "        pass\n",
        "\n",
        "    def borrow_book(self, book):\n",
        "        # Implementation for borrowing a book from the library\n",
        "        pass"
      ],
      "metadata": {
        "id": "w9ACm_Q3LHgf"
      },
      "execution_count": 25,
      "outputs": []
    },
    {
      "cell_type": "code",
      "source": [
        "#20. Describe the concept of method abstraction in python and how it relates to polymorphism.\n",
        "\n",
        "'''Abstract methods are methods that are declared in a base class but not defined. They act as placeholders that must be overridden by subclasses that inherit from the base class. Abstract methods enforce a consistent interface for subclasses and ensure that they provide their own implementation of the method. Abstraction refers to no specific detail of something , and polymorphism  refers to methods of different objects have the same, but do different task.'''"
      ],
      "metadata": {
        "id": "xK8HD_hpL3E2",
        "colab": {
          "base_uri": "https://localhost:8080/",
          "height": 70
        },
        "outputId": "b663ddbd-23e8-4491-87f2-7cb98e9b5822"
      },
      "execution_count": null,
      "outputs": [
        {
          "output_type": "execute_result",
          "data": {
            "text/plain": [
              "'Abstract methods are methods that are declared in a base class but not defined. They act as placeholders that must be overridden by subclasses that inherit from the base class. Abstract methods enforce a consistent interface for subclasses and ensure that they provide their own implementation of the method. Abstraction refers to no specific detail of something , and polymorphism  refers to methods of different objects have the same, but do different task.'"
            ],
            "application/vnd.google.colaboratory.intrinsic+json": {
              "type": "string"
            }
          },
          "metadata": {},
          "execution_count": 12
        }
      ]
    },
    {
      "cell_type": "code",
      "source": [
        "#Composition:\n",
        "#1. Explain the concept of composition in python and how it is used to build complex objects from simpler ones.\n",
        "\n",
        "'''Composition is a concept that models a has a relationship. It enables creating complex types by combining objects of other types. This means that a class Composite can contain an object of another class Component. This relationship means tht a Composite has a Component.'''"
      ],
      "metadata": {
        "id": "LoWG43QWMOmP",
        "colab": {
          "base_uri": "https://localhost:8080/",
          "height": 53
        },
        "outputId": "b244f500-4f18-43d3-cee9-e4e6528f63db"
      },
      "execution_count": null,
      "outputs": [
        {
          "output_type": "execute_result",
          "data": {
            "text/plain": [
              "'Composition is a concept that models a has a relationship. It enables creating complex types by combining objects of other types. This means that a class Composite can contain an object of another class Component. This relationship means tht a Composite has a Component.'"
            ],
            "application/vnd.google.colaboratory.intrinsic+json": {
              "type": "string"
            }
          },
          "metadata": {},
          "execution_count": 11
        }
      ]
    },
    {
      "cell_type": "code",
      "source": [
        "#2. Describe the difference between composition and inheritance in object-oriented programming.\n",
        "\n",
        "'''When it comes to OOP and python, unlike inheritance we do not inherit from a base class. Instead, composition results in relationships being created between classes through the use of instance varibles, with these instance variables reference the other objects. Composition enables you to reuse code by adding objects, as opposed to inheriting the interface and implementation of other classes.'''"
      ],
      "metadata": {
        "id": "qv6beUjvMnfe",
        "colab": {
          "base_uri": "https://localhost:8080/",
          "height": 70
        },
        "outputId": "33929400-427e-4beb-8758-0b351148813d"
      },
      "execution_count": null,
      "outputs": [
        {
          "output_type": "execute_result",
          "data": {
            "text/plain": [
              "'When it comes to OOP and python, unlike inheritance we do not inherit from a base class. Instead, composition results in relationships being created between classes through the use of instance varibles, with these instance variables reference the other objects. Composition enables you to reuse code by adding objects, as opposed to inheriting the interface and implementation of other classes.'"
            ],
            "application/vnd.google.colaboratory.intrinsic+json": {
              "type": "string"
            }
          },
          "metadata": {},
          "execution_count": 13
        }
      ]
    },
    {
      "cell_type": "code",
      "source": [
        "#3. Create a python class called 'Author' with attributes for name and birthdate. Then, create a 'Book' class that contains an instance of 'Author' as a composition. Provide an example of creating a 'Book' object.\n",
        "\n",
        "class Author:\n",
        "    def __init__(self, name, birthdate):\n",
        "        self.name = name\n",
        "        self.birthdate = birthdate\n",
        "\n",
        "class Book:\n",
        "    def __init__(self, title, author):\n",
        "        self.title = title\n",
        "        self.author = author\n",
        "\n",
        "author = Author(\"John Doe\", \"January 1, 1990\")\n",
        "book = Book(\"The Great Book\", author)"
      ],
      "metadata": {
        "id": "RUzDVpA7M1fx"
      },
      "execution_count": 26,
      "outputs": []
    },
    {
      "cell_type": "code",
      "source": [
        "#4. Discuss the benefits of using composition over inheritance in python, especially in terms of code flexibility and reuseability.\n",
        "\n",
        "'''Composition enables you to reuse code by adding objects to other objects, as opposed to inheriting the interface and implementation of other classes. Both Horse and Dog classes can leverage the funtionality of Tail through composition without deriving one class from the other. Composition offers several advantages over inheritance, including greater flexibility, reduced complexity, and improved maintainability. It can also avoid problems associated with multiple inheritance , such as the \"diamond problem\". While inheritance  still has its place in object-oriented programming.'''"
      ],
      "metadata": {
        "id": "Cr9lwnEaNj4x",
        "colab": {
          "base_uri": "https://localhost:8080/",
          "height": 87
        },
        "outputId": "12665ffe-859a-4cc3-ed02-55dece1c625a"
      },
      "execution_count": null,
      "outputs": [
        {
          "output_type": "execute_result",
          "data": {
            "text/plain": [
              "'Composition enables you to reuse code by adding objects to other objects, as opposed to inheriting the interface and implementation of other classes. Both Horse and Dog classes can leverage the funtionality of Tail through composition without deriving one class from the other. Composition offers several advantages over inheritance, including greater flexibility, reduced complexity, and improved maintainability. It can also avoid problems associated with multiple inheritance , such as the \"diamond problem\". While inheritance  still has its place in object-oriented programming.'"
            ],
            "application/vnd.google.colaboratory.intrinsic+json": {
              "type": "string"
            }
          },
          "metadata": {},
          "execution_count": 1
        }
      ]
    },
    {
      "cell_type": "code",
      "source": [
        "#5. How can you implement composition in python classes? Provide examples of using composition to create complex objects.\n",
        "\n",
        "'''By using the class names or by creating an object we can access the member of one inside another class. Classes are created by keyword class. Attributes are the variables that belong to a class. Attributes are the variables that belong to a class. Attributes are always public and can be accessed using the dot(.) opeartor. For example: a car object can be composed of engine, wheel, and door objects. Composition in programming is like building something using smaller parts. It's a way to create complex objects by combining simpler ones.'''"
      ],
      "metadata": {
        "id": "OmEb77NUN-ad",
        "colab": {
          "base_uri": "https://localhost:8080/",
          "height": 87
        },
        "outputId": "0c6e2a06-8438-4398-ed50-f86e5513d930"
      },
      "execution_count": null,
      "outputs": [
        {
          "output_type": "execute_result",
          "data": {
            "text/plain": [
              "\"By using the class names or by creating an object we can access the member of one inside another class. Classes are created by keyword class. Attributes are the variables that belong to a class. Attributes are the variables that belong to a class. Attributes are always public and can be accessed using the dot(.) opeartor. For example: a car object can be composed of engine, wheel, and door objects. Composition in programming is like building something using smaller parts. It's a way to create complex objects by combining simpler ones.\""
            ],
            "application/vnd.google.colaboratory.intrinsic+json": {
              "type": "string"
            }
          },
          "metadata": {},
          "execution_count": 2
        }
      ]
    },
    {
      "cell_type": "code",
      "source": [
        "#6. Create a python class hierarchy for a music player system, using composition to represent playlists and songs.\n",
        "\n",
        "class MusicPlayer:\n",
        "    def __init__(self):\n",
        "        self.playlists = []\n",
        "\n",
        "    def add_playlist(self, playlist):\n",
        "        self.playlists.append(playlist)\n",
        "\n",
        "    def remove_playlist(self, playlist):\n",
        "        self.playlists.remove(playlist)\n",
        "\n",
        "\n",
        "class Playlist:\n",
        "    def __init__(self, name):\n",
        "        self.name = name\n",
        "        self.songs = []\n",
        "\n",
        "    def add_song(self, song):\n",
        "        self.songs.append(song)\n",
        "\n",
        "    def remove_song(self, song):\n",
        "        self.songs.remove(song)\n",
        "\n",
        "\n",
        "class Song:\n",
        "    def __init__(self, title, artist, duration):\n",
        "        self.title = title\n",
        "        self.artist = artist\n",
        "        self.duration = duration"
      ],
      "metadata": {
        "id": "CyEvV3rtOZgK"
      },
      "execution_count": 27,
      "outputs": []
    },
    {
      "cell_type": "code",
      "source": [
        "#7. Exlain the concept of \"has-a\" relationships in composition and how it helps design software systems.\n",
        "\n",
        "'''Composition is a concept that models a has a relationship. It enables creating complex types by combining objects of other types. This means that a class Composite can contain on object of another class Component. This relationship means that a Composite has a Component.'''"
      ],
      "metadata": {
        "id": "CH98A6HlOt5T",
        "colab": {
          "base_uri": "https://localhost:8080/",
          "height": 53
        },
        "outputId": "7bb69414-5e54-42b5-a540-b5b00432d072"
      },
      "execution_count": null,
      "outputs": [
        {
          "output_type": "execute_result",
          "data": {
            "text/plain": [
              "'Composition is a concept that models a has a relationship. It enables creating complex types by combining objects of other types. This means that a class Composite can contain on object of another class Component. This relationship means that a Composite has a Component.'"
            ],
            "application/vnd.google.colaboratory.intrinsic+json": {
              "type": "string"
            }
          },
          "metadata": {},
          "execution_count": 3
        }
      ]
    },
    {
      "cell_type": "code",
      "source": [
        "#8. Create a python class for a computer system, using composition to represent components like CPU, RAM, and storage devices.\n",
        "\n",
        "class ComputerSystem:\n",
        "    def __init__(self, cpu, ram, storage):\n",
        "        self.cpu = cpu\n",
        "        self.ram = ram\n",
        "        self.storage = storage\n",
        "\n",
        "class CPU:\n",
        "    def __init__(self, brand, speed):\n",
        "        self.brand = brand\n",
        "        self.speed = speed\n",
        "\n",
        "class RAM:\n",
        "    def __init__(self, capacity):\n",
        "        self.capacity = capacity\n",
        "\n",
        "class Storage:\n",
        "    def __init__(self, capacity):\n",
        "        self.capacity = capacity\n",
        "\n",
        "cpu = CPU(\"Intel\", 3.2)\n",
        "ram = RAM(8)\n",
        "storage = Storage(500)\n",
        "computer = ComputerSystem(cpu, ram, storage)"
      ],
      "metadata": {
        "id": "Ef0GZB0XPJo5"
      },
      "execution_count": 29,
      "outputs": []
    },
    {
      "cell_type": "code",
      "source": [
        "#9. Describe the concept of \"delegation\" in composition and how it simplifies the design of complex systems.\n",
        "\n",
        "'''Delegation is a powerful design pattern in python, allowing objects to pass specific tasks to other objects, known as delegates. It's akin to requesting assistance, where one entity offloads certain responsibilities to another. Delegation fosters code modularity, making it easier to manage and extend your software.'''"
      ],
      "metadata": {
        "id": "btZE_VFQPgtP",
        "colab": {
          "base_uri": "https://localhost:8080/",
          "height": 53
        },
        "outputId": "366739fb-405a-4755-bab2-d2ea7b4ae498"
      },
      "execution_count": null,
      "outputs": [
        {
          "output_type": "execute_result",
          "data": {
            "text/plain": [
              "\"Delegation is a powerful design pattern in python, allowing objects to pass specific tasks to other objects, known as delegates. It's akin to requesting assistance, where one entity offloads certain responsibilities to another. Delegation fosters code modularity, making it easier to manage and extend your software.\""
            ],
            "application/vnd.google.colaboratory.intrinsic+json": {
              "type": "string"
            }
          },
          "metadata": {},
          "execution_count": 4
        }
      ]
    },
    {
      "cell_type": "code",
      "source": [
        "#10. Create a python class for a car,using composition to represent components like the engine, wheels, and transmission.\n",
        "\n",
        "class Car:\n",
        "    def __init__(self, engine, wheels, transmission):\n",
        "        self.engine = engine\n",
        "        self.wheels = wheels\n",
        "        self.transmission = transmission"
      ],
      "metadata": {
        "id": "IwwtZokwP0rX"
      },
      "execution_count": 30,
      "outputs": []
    },
    {
      "cell_type": "code",
      "source": [
        "#11. How can you encapsulate and hide the details of composed objects in python classes to maintain abstraction?\n",
        "\n",
        "'''Encapsulation can be achieved by declaring the data members and methods of a class either as private or protected. But in Python we don't have direct access modifiers like public, private, and protected. We can achieve this by using single underscore and double underscores.'''"
      ],
      "metadata": {
        "id": "skj4HcaMQPIY",
        "colab": {
          "base_uri": "https://localhost:8080/",
          "height": 53
        },
        "outputId": "6e1f782a-3897-4593-d6c0-dad7938e3a39"
      },
      "execution_count": null,
      "outputs": [
        {
          "output_type": "execute_result",
          "data": {
            "text/plain": [
              "\"Encapsulation can be achieved by declaring the data members and methods of a class either as private or protected. But in Python we don't have direct access modifiers like public, private, and protected. We can achieve this by using single underscore and double underscores.\""
            ],
            "application/vnd.google.colaboratory.intrinsic+json": {
              "type": "string"
            }
          },
          "metadata": {},
          "execution_count": 5
        }
      ]
    },
    {
      "cell_type": "code",
      "source": [
        "#12. Create a python class for a university course, using composition to represent students, instructors, and course materials.\n",
        "\n",
        "class UniversityCourse:\n",
        "    def __init__(self, course_name, instructor, students, course_materials):\n",
        "        self.course_name = course_name\n",
        "        self.instructor = instructor\n",
        "        self.students = students\n",
        "        self.course_materials = course_materials"
      ],
      "metadata": {
        "id": "c7bJcXuLQe2c"
      },
      "execution_count": 31,
      "outputs": []
    },
    {
      "cell_type": "code",
      "source": [
        "#13. Discuss the challenging and drawbacks of compositions , such as increased complexity and potential for tight coupling between objects.\n",
        "\n",
        "'''Coupling is affected by the type of connections between modules, interface complexity, information flow between module connections, and binding time of module connections. Coupling is usually constrasted with cohesion,e.g., low coupling translates into high cohension and vice-versa.'''"
      ],
      "metadata": {
        "id": "H70KgzaWQyb2",
        "colab": {
          "base_uri": "https://localhost:8080/",
          "height": 53
        },
        "outputId": "a856248c-af87-4082-839b-5ac0095c2ffd"
      },
      "execution_count": null,
      "outputs": [
        {
          "output_type": "execute_result",
          "data": {
            "text/plain": [
              "'Coupling is affected by the type of connections between modules, interface complexity, information flow between module connections, and binding time of module connections. Coupling is usually constrasted with cohesion,e.g., low coupling translates into high cohension and vice-versa.'"
            ],
            "application/vnd.google.colaboratory.intrinsic+json": {
              "type": "string"
            }
          },
          "metadata": {},
          "execution_count": 6
        }
      ]
    },
    {
      "cell_type": "code",
      "source": [
        "#14. Create a python class hierarchy for a restaurant system, using composition to represent menus, dishes, and ingredients.\n",
        "\n",
        "class Ingredient:\n",
        "    def __init__(self, name, quantity):\n",
        "        self.name = name\n",
        "        self.quantity = quantity\n",
        "\n",
        "class Dish:\n",
        "    def __init__(self, name, ingredients):\n",
        "        self.name = name\n",
        "        self.ingredients = ingredients\n",
        "\n",
        "class Menu:\n",
        "    def __init__(self, name, dishes):\n",
        "        self.name = name\n",
        "        self.dishes = dishes\n",
        "\n",
        "class Restaurant:\n",
        "    def __init__(self, name, menus):\n",
        "        self.name = name\n",
        "        self.menus = menus"
      ],
      "metadata": {
        "id": "MXu5vltmRPV4"
      },
      "execution_count": 32,
      "outputs": []
    },
    {
      "cell_type": "code",
      "source": [
        "#15. Explain how composition enhances code maintainability and modularity in python programs.\n",
        "\n",
        "'''Composition involves creating relationships between classes by including instances of other classes, promoting code flexibility. This provides an alternative to traditional inheritance, allowing for better code maintainability in specific scenarios. By using modularity, you make your code more organized, reuseable, and maintainable. It allows for parallel development and enhances collaboration among team members. If changes are needed, they can be made to individual modules without impacting the entire system.'''"
      ],
      "metadata": {
        "id": "VjYOnZ4BRrIw",
        "colab": {
          "base_uri": "https://localhost:8080/",
          "height": 87
        },
        "outputId": "ab8daa3b-fe98-4104-ab02-87d880f0e946"
      },
      "execution_count": null,
      "outputs": [
        {
          "output_type": "execute_result",
          "data": {
            "text/plain": [
              "'Composition involves creating relationships between classes by including instances of other classes, promoting code flexibility. This provides an alternative to traditional inheritance, allowing for better code maintainability in specific scenarios. By using modularity, you make your code more organized, reuseable, and maintainable. It allows for parallel development and enhances collaboration among team members. If changes are needed, they can be made to individual modules without impacting the entire system.'"
            ],
            "application/vnd.google.colaboratory.intrinsic+json": {
              "type": "string"
            }
          },
          "metadata": {},
          "execution_count": 7
        }
      ]
    },
    {
      "cell_type": "code",
      "source": [
        "#16. Create a python class for a computer game character, using composition to represent attributes like weapons, armor, and inventory.\n",
        "\n",
        "class Character:\n",
        "    def __init__(self, name):\n",
        "        self.name = name\n",
        "        self.weapon = None\n",
        "        self.armor = None\n",
        "        self.inventory = []\n",
        "\n",
        "class Weapon:\n",
        "    def __init__(self, name, damage):\n",
        "        self.name = name\n",
        "        self.damage = damage\n",
        "\n",
        "class Armor:\n",
        "    def __init__(self, name, defense):\n",
        "        self.name = name\n",
        "        self.defense = defense\n",
        "\n",
        "class Item:\n",
        "    def __init__(self, name):\n",
        "        self.name = name"
      ],
      "metadata": {
        "id": "zMBUKkI8R67k"
      },
      "execution_count": 33,
      "outputs": []
    },
    {
      "cell_type": "code",
      "source": [
        "#17. Describe the concept of 'aggregation' in composition and how it differs from simple composition.\n",
        "\n",
        "'''Composition is a way to wrap simple objects or data types into a single unit. Aggregation differs from ordinary composition in that is does not imply owership. In composition, parent entity owns child entity. In aggregation, parent Has-A relationship with child entity. Composition is defined by the PART-OF relatiionship which means that one object IS PART_OF ANOTHER OBJECT, but Aggregation is defined by the HAS_A relationship which means that one object HAS-A RELATION with another object.'''"
      ],
      "metadata": {
        "id": "Jz84yQJtSRtX",
        "colab": {
          "base_uri": "https://localhost:8080/",
          "height": 87
        },
        "outputId": "9e29316b-0757-40f3-ee5a-a7428859da6e"
      },
      "execution_count": null,
      "outputs": [
        {
          "output_type": "execute_result",
          "data": {
            "text/plain": [
              "'Composition is a way to wrap simple objects or data types into a single unit. Aggregation differs from ordinary composition in that is does not imply owership. In composition, parent entity owns child entity. In aggregation, parent Has-A relationship with child entity. Composition is defined by the PART-OF relatiionship which means that one object IS PART_OF ANOTHER OBJECT, but Aggregation is defined by the HAS_A relationship which means that one object HAS-A RELATION with another object.'"
            ],
            "application/vnd.google.colaboratory.intrinsic+json": {
              "type": "string"
            }
          },
          "metadata": {},
          "execution_count": 8
        }
      ]
    },
    {
      "cell_type": "code",
      "source": [
        "#18. Create a python class for a house, using composition to represent rooms, furniture, and appliances.\n",
        "\n",
        "class House:\n",
        "    def __init__(self, rooms, furniture, appliances):\n",
        "        self.rooms = rooms\n",
        "        self.furniture = furniture\n",
        "        self.appliances = appliances\n",
        "\n",
        "class Room:\n",
        "    def __init__(self, name, area):\n",
        "        self.name = name\n",
        "        self.area = area\n",
        "\n",
        "class Furniture:\n",
        "    def __init__(self, name, color):\n",
        "        self.name = name\n",
        "        self.color = color\n",
        "\n",
        "class Appliance:\n",
        "    def __init__(self, name, brand):\n",
        "        self.name = name\n",
        "        self.brand = brand"
      ],
      "metadata": {
        "id": "kcp4aNY6Sl0S"
      },
      "execution_count": 34,
      "outputs": []
    },
    {
      "cell_type": "code",
      "source": [
        "#19. How can you achieve flexibility in composed objects by allowing them to be replaced or modified dynamically or runtime?\n",
        "\n",
        "'''Object-oriented programming provides flexibility for you codebase through inheritance and polymorphism. Classes and objects (depending on the languages) can also share properties and methods through inheritance. The child classs or object inherits everthing from its parent. Flexibilty is a measure of how far the material can bend without breaking. Some materials are more flexible than others. Materials such as paper and cloth can be bent or folded into new shapes and won't automatically return to their original shape once the force has been removed.'''"
      ],
      "metadata": {
        "id": "VDFZMG6hS141",
        "colab": {
          "base_uri": "https://localhost:8080/",
          "height": 87
        },
        "outputId": "39a78648-1886-4a36-9bcf-2a8dea441063"
      },
      "execution_count": null,
      "outputs": [
        {
          "output_type": "execute_result",
          "data": {
            "text/plain": [
              "\"Object-oriented programming provides flexibility for you codebase through inheritance and polymorphism. Classes and objects (depending on the languages) can also share properties and methods through inheritance. The child classs or object inherits everthing from its parent. Flexibilty is a measure of how far the material can bend without breaking. Some materials are more flexible than others. Materials such as paper and cloth can be bent or folded into new shapes and won't automatically return to their original shape once the force has been removed.\""
            ],
            "application/vnd.google.colaboratory.intrinsic+json": {
              "type": "string"
            }
          },
          "metadata": {},
          "execution_count": 9
        }
      ]
    },
    {
      "cell_type": "code",
      "source": [
        "#20. Create a python class for a social media application, using composition to represent users, posts, and comments.\n",
        "\n",
        "class User:\n",
        "    def __init__(self, username, email):\n",
        "        self.username = username\n",
        "        self.email = email\n",
        "\n",
        "class Post:\n",
        "    def __init__(self, content, user):\n",
        "        self.content = content\n",
        "        self.user = user\n",
        "\n",
        "class Comment:\n",
        "    def __init__(self, text, user, post):\n",
        "        self.text = text\n",
        "        self.user = user\n",
        "        self.post = post\n",
        "\n",
        "class SocialMediaApp:\n",
        "    def __init__(self):\n",
        "        self.users = []\n",
        "        self.posts = []\n",
        "        self.comments = []\n",
        "\n",
        "    def add_user(self, username, email):\n",
        "        user = User(username, email)\n",
        "        self.users.append(user)\n",
        "\n",
        "    def create_post(self, content, username):\n",
        "        user = self.find_user(username)\n",
        "        if user:\n",
        "            post = Post(content, user)\n",
        "            self.posts.append(post)\n",
        "\n",
        "    def add_comment(self, text, username, post_content):\n",
        "        user = self.find_user(username)\n",
        "        post = self.find_post(post_content)\n",
        "        if user and post:\n",
        "            comment = Comment(text, user, post)\n",
        "            self.comments.append(comment)\n",
        "\n",
        "    def find_user(self, username):\n",
        "        for user in self.users:\n",
        "            if user.username == username:\n",
        "                return user\n",
        "        return None\n",
        "\n",
        "    def find_post(self, content):\n",
        "        for post in self.posts:\n",
        "            if post.content == content:\n",
        "                return post\n",
        "        return None"
      ],
      "metadata": {
        "id": "iTQi0n18TMod"
      },
      "execution_count": 35,
      "outputs": []
    }
  ]
}